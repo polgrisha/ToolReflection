{
 "cells": [
  {
   "cell_type": "code",
   "execution_count": null,
   "metadata": {},
   "outputs": [],
   "source": [
    "import sys\n",
    "sys.path.append('ToolAlpaca')\n",
    "from utils import load_openapi_spec, analyze_openapi_spec\n",
    "import json\n",
    "from agent.convert_request import call_api_function\n",
    "from utils import load_openapi_spec, escape\n",
    "from agent.tools import Tool, GetDetailsTool, tool_projection\n",
    "\n",
    "def load_tools(api_data):\n",
    "    # server_url = \"http://127.0.0.1:5679\"\n",
    "    server_url = None\n",
    "    openapi_spec = load_openapi_spec(api_data[\"Documentation\"], replace_refs=True)\n",
    "    components_descriptions = escape(api_data[\"Function_Description\"][\"components\"])\n",
    "    tools = dict()\n",
    "    for idx, func_name in enumerate(api_data[\"Function_Projection\"]):\n",
    "        description = escape(api_data[\"Function_Description\"][func_name])\n",
    "        if idx == len(api_data[\"Function_Projection\"]) - 1:\n",
    "            description += components_descriptions\n",
    "        path, method = api_data[\"Function_Projection\"][func_name]\n",
    "        tools[func_name] = Tool(\n",
    "            base_url=server_url + \"/\" + api_data[\"Name\"] if server_url else None,\n",
    "            func_name=func_name,\n",
    "            openapi_spec=openapi_spec,\n",
    "            path=path,\n",
    "            method=method,\n",
    "            description=description,\n",
    "            retrieval_available=\"retrieval\" in api_data.get(\"external_tools\", [])\n",
    "        )\n",
    "    return tools"
   ]
  },
  {
   "cell_type": "code",
   "execution_count": null,
   "metadata": {},
   "outputs": [],
   "source": [
    "real_tools = json.load(open('data/eval_real.json', 'r'))"
   ]
  },
  {
   "cell_type": "code",
   "execution_count": null,
   "metadata": {},
   "outputs": [],
   "source": [
    "real_tools[0]"
   ]
  },
  {
   "cell_type": "code",
   "execution_count": null,
   "metadata": {},
   "outputs": [],
   "source": [
    "tools = load_tools(real_tools[0])"
   ]
  },
  {
   "cell_type": "code",
   "execution_count": null,
   "metadata": {},
   "outputs": [],
   "source": [
    "tools"
   ]
  },
  {
   "cell_type": "code",
   "execution_count": null,
   "metadata": {},
   "outputs": [],
   "source": [
    "test_tool = tools['PublicHolidayIsTodayPublicHoliday']\n",
    "test_tool._run('{\\\"countryCode\\\": \\\"cn\\\", \\\"offset\\\": 1}')"
   ]
  },
  {
   "cell_type": "code",
   "execution_count": null,
   "metadata": {},
   "outputs": [],
   "source": []
  }
 ],
 "metadata": {
  "kernelspec": {
   "display_name": "Python 3 (ipykernel)",
   "language": "python",
   "name": "python3"
  },
  "language_info": {
   "codemirror_mode": {
    "name": "ipython",
    "version": 3
   },
   "file_extension": ".py",
   "mimetype": "text/x-python",
   "name": "python",
   "nbconvert_exporter": "python",
   "pygments_lexer": "ipython3",
   "version": "3.10.11"
  }
 },
 "nbformat": 4,
 "nbformat_minor": 2
}
