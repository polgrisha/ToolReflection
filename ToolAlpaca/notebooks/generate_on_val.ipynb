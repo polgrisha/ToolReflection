{
 "cells": [
  {
   "cell_type": "code",
   "execution_count": 1,
   "metadata": {},
   "outputs": [],
   "source": [
    "import os\n",
    "os.environ[\"CUDA_DEVICE_ORDER\"]=\"PCI_BUS_ID\"\n",
    "os.environ[\"CUDA_VISIBLE_DEVICES\"]=\"7\"\n",
    "import sys\n",
    "sys.path.append(\"ToolAlpaca\")\n",
    "from tqdm import tqdm\n",
    "import json\n",
    "from transformers import AutoTokenizer, AutoModelForCausalLM, pipeline\n",
    "from langchain import HuggingFacePipeline\n",
    "from pprint import pprint\n",
    "from agent.custom_parser import CustomMRKLOutputParser2, CustomMRKLOutputParser, CustomMRKLOutputParser3\n",
    "from copy import deepcopy\n",
    "from utils import load_openapi_spec, escape\n",
    "from agent.tools import Tool, GetDetailsTool, tool_projection\n",
    "from agent.tools import CustomInvalidTool\n",
    "from transformers import StoppingCriteria\n",
    "import torch\n",
    "from langchain.schema import AgentAction, AgentFinish\n",
    "from collections import Counter\n",
    "import random\n",
    "random.seed(0)"
   ]
  },
  {
   "cell_type": "code",
   "execution_count": 3,
   "metadata": {},
   "outputs": [],
   "source": [
    "data = json.load(open('data/train_data_val_part', 'r'))\n",
    "generations = json.load(open('data/test_generations_val_model_trained_on_half_train.json', 'r'))\n",
    "assert len(data) == len(generations)"
   ]
  },
  {
   "cell_type": "code",
   "execution_count": 7,
   "metadata": {},
   "outputs": [
    {
     "data": {
      "text/plain": [
       "AgentAction(tool='getSubdomains', tool_input='{\"domain\": \"example.com\"}', log=' I need to use the getSubdomains tool to retrieve a list of subdomains for the domain example.com.\\nASSISTANT Action: getSubdomains\\nASSISTANT Action Input: {\"domain\": \"example.com\"}')"
      ]
     },
     "execution_count": 7,
     "metadata": {},
     "output_type": "execute_result"
    }
   ],
   "source": [
    "parser = CustomMRKLOutputParser2()\n",
    "parser.parse(generations[0][0][1])"
   ]
  },
  {
   "cell_type": "code",
   "execution_count": 8,
   "metadata": {},
   "outputs": [
    {
     "data": {
      "text/plain": [
       "AgentAction(tool='getSubdomains', tool_input='{\"domain\": \"example.com\"}\\nASSISTANT Observation:', log='I need to use the getSubdomains tool to find the subdomains for example.com.\\nASSISTANT Action: getSubdomains\\nASSISTANT Action Input: {\"domain\": \"example.com\"}\\nASSISTANT Observation: ')"
      ]
     },
     "execution_count": 8,
     "metadata": {},
     "output_type": "execute_result"
    }
   ],
   "source": [
    "parser.parse(data[0][0][1])"
   ]
  },
  {
   "cell_type": "code",
   "execution_count": 9,
   "metadata": {},
   "outputs": [
    {
     "data": {
      "text/plain": [
       "AgentAction(tool='getTechnologies', tool_input='{\"domain\": \"amazon.com\"}\\nASSISTANT Observation:', log='I need to use the getTechnologies tool to retrieve the technologies used by amazon.com.\\nASSISTANT Action: getTechnologies\\nASSISTANT Action Input: {\"domain\": \"amazon.com\"}\\nASSISTANT Observation: ')"
      ]
     },
     "execution_count": 9,
     "metadata": {},
     "output_type": "execute_result"
    }
   ],
   "source": [
    "test_response = data[2][0][1]\n",
    "parser.parse(test_response)"
   ]
  },
  {
   "cell_type": "markdown",
   "metadata": {},
   "source": [
    "Смимикрируем генерацию ответа от тула"
   ]
  },
  {
   "cell_type": "code",
   "execution_count": 10,
   "metadata": {},
   "outputs": [],
   "source": [
    "original_full_train = json.load(open('data/train_data.json', 'r'))"
   ]
  },
  {
   "cell_type": "code",
   "execution_count": 11,
   "metadata": {},
   "outputs": [],
   "source": [
    "def get_all_tools(item, enable_getDetails=False, server_url=\"http://127.0.0.1:5679\"):\n",
    "    openapi_spec = load_openapi_spec(item[\"Documentation\"], replace_refs=True)\n",
    "    components_descriptions = escape(item[\"Function_Description\"][\"components\"])\n",
    "\n",
    "    tools = [GetDetailsTool()] if not enable_getDetails else []\n",
    "    for ext_tool in item.get(\"external_tools\", []):\n",
    "        tools.append(tool_projection[ext_tool]())\n",
    "\n",
    "    for idx, func_name in enumerate(item[\"Function_Projection\"]):\n",
    "        description = escape(item[\"Function_Description\"][func_name])\n",
    "        if idx == len(item[\"Function_Projection\"]) - 1:\n",
    "            description += components_descriptions\n",
    "        path, method = item[\"Function_Projection\"][func_name]\n",
    "        tools.append(Tool(\n",
    "            base_url=server_url + \"/\" + item[\"Name\"] if server_url else None,\n",
    "            func_name=func_name,\n",
    "            openapi_spec=openapi_spec,\n",
    "            path=path,\n",
    "            method=method,\n",
    "            description=description,\n",
    "            retrieval_available=\"retrieval\" in item.get(\"external_tools\", [])\n",
    "        ))\n",
    "    tools = {tool.name: tool for tool in tools}\n",
    "    return tools"
   ]
  },
  {
   "cell_type": "code",
   "execution_count": 12,
   "metadata": {},
   "outputs": [
    {
     "data": {
      "text/plain": [
       "{'getDetails': GetDetailsTool(name='getDetails', description='If the user\\'s question lacks the essential information needed to answer the question effectively, or if the question contains vague terms or pronouns without sufficient context, invoke the `getDetails` function to prompt the user for the missing critical details. However, `getDetails` should not be used in cases where the user omits optional parameters, unless these parameters become necessary in the course of the conversation. \\nParameters: {{\"Question\": \"The question to prompt user to provide sufficient information.\"}}\\nOutput: User\\'s response.', args_schema=None, return_direct=False, verbose=False, callback_manager=<langchain.callbacks.shared.SharedCallbackManager object at 0x7fd7c50a2530>, chat_history=[], func=<function GetDetailsTool.__init__.<locals>.func at 0x7fd7bd4053f0>, coroutine=None),\n",
       " 'sendHttpRequest': Tool(name='sendHttpRequest', description='Send an HTTP request with the specified method, headers, and data to the Httpbin API for testing purposes.\\nParameters: {{\"method\": \"Required. string. One of: [GET, POST, PUT, DELETE, HEAD, PATCH]. The HTTP method to use (GET, POST, PUT, DELETE, HEAD, or PATCH).\", \"url\": \"Required. string. The endpoint URL to send the request to.\", \"headers\": \"Object.  A key-value pair of headers to include in the request.\", \"data\": \"Object.  A key-value pair of data to include in the request body.\"}}\\nOutput: Successful response.\\n - Format: application/json\\n - Structure: Object{{response: Object{{status_code, headers: Object, body}}}}', args_schema=None, return_direct=False, verbose=False, callback_manager=<langchain.callbacks.shared.SharedCallbackManager object at 0x7fd7c50a2530>, func=<function Tool.__init__.<locals>.func at 0x7fd7bd405480>, coroutine=None, max_output_len=3000),\n",
       " 'getClientRequestData': Tool(name='getClientRequestData', description='Retrieve the client\\'s request data, including headers, form data, uploaded files, and cookies.\\nParameters: {{\"url\": \"Required. string. The endpoint URL to send the request to.\"}}\\nOutput: Successful response.\\n - Format: application/json\\n - Structure: Object{{requestData: Object{{headers: Object, form: Object, files: Object, cookies: Object}}}}', args_schema=None, return_direct=False, verbose=False, callback_manager=<langchain.callbacks.shared.SharedCallbackManager object at 0x7fd7c50a2530>, func=<function Tool.__init__.<locals>.func at 0x7fd7bd405510>, coroutine=None, max_output_len=3000),\n",
       " 'testProxyHeaders': Tool(name='testProxyHeaders', description='Send a request to the Httpbin API\\'s proxy headers testing endpoint.\\nParameters: {{\"url\": \"Required. string. The endpoint URL to send the request to.\", \"headers\": \"Object.  A key-value pair of headers to include in the request.\"}}\\nOutput: Successful response.\\n - Format: application/json\\n - Structure: Object{{response: Object{{status_code, headers: Object, body}}}}', args_schema=None, return_direct=False, verbose=False, callback_manager=<langchain.callbacks.shared.SharedCallbackManager object at 0x7fd7c50a2530>, func=<function Tool.__init__.<locals>.func at 0x7fd7bd4055a0>, coroutine=None, max_output_len=3000),\n",
       " 'simulateStatusCode': Tool(name='simulateStatusCode', description='Send a request to the Httpbin API\\'s status code simulation endpoint to test how your application handles specific status codes.\\nParameters: {{\"url\": \"Required. string. The endpoint URL to send the request to.\", \"statusCode\": \"Required. integer. The HTTP status code to simulate.\"}}\\nOutput: Successful response.\\n - Format: application/json\\n - Structure: Object{{response: Object{{status_code, headers: Object, body}}}}', args_schema=None, return_direct=False, verbose=False, callback_manager=<langchain.callbacks.shared.SharedCallbackManager object at 0x7fd7c50a2530>, func=<function Tool.__init__.<locals>.func at 0x7fd7bd405630>, coroutine=None, max_output_len=3000)}"
      ]
     },
     "execution_count": 12,
     "metadata": {},
     "output_type": "execute_result"
    }
   ],
   "source": [
    "get_all_tools(original_full_train[0])"
   ]
  },
  {
   "cell_type": "code",
   "execution_count": 13,
   "metadata": {},
   "outputs": [],
   "source": [
    "query_tool_mapping = dict()\n",
    "for item in original_full_train:\n",
    "    tools = get_all_tools(item)\n",
    "    for query in item['Instructions']:\n",
    "        query_tool_mapping[query] = tools"
   ]
  },
  {
   "cell_type": "markdown",
   "metadata": {},
   "source": [
    "Проитерируемся по всем генерациям и попробуем повызывать тулы"
   ]
  },
  {
   "cell_type": "code",
   "execution_count": 14,
   "metadata": {},
   "outputs": [
    {
     "data": {
      "text/plain": [
       "{'getDetails': GetDetailsTool(name='getDetails', description='If the user\\'s question lacks the essential information needed to answer the question effectively, or if the question contains vague terms or pronouns without sufficient context, invoke the `getDetails` function to prompt the user for the missing critical details. However, `getDetails` should not be used in cases where the user omits optional parameters, unless these parameters become necessary in the course of the conversation. \\nParameters: {{\"Question\": \"The question to prompt user to provide sufficient information.\"}}\\nOutput: User\\'s response.', args_schema=None, return_direct=False, verbose=False, callback_manager=<langchain.callbacks.shared.SharedCallbackManager object at 0x7fd7c50a2530>, chat_history=[], func=<function GetDetailsTool.__init__.<locals>.func at 0x7fd7c0d4cdc0>, coroutine=None),\n",
       " 'getVerse': Tool(name='getVerse', description='Retrieve the text of a specific verse from the Bible.\\nParameters: {{\"book\": \"Required. string. The name of the book.\", \"chapter\": \"Required. integer. The chapter number.\", \"verse\": \"Required. integer. The verse number.\"}}\\nOutput: Returns a JSON object containing the text of the requested verse.\\n - Format: application/json\\n - Structure: Object{{text}}', args_schema=None, return_direct=False, verbose=False, callback_manager=<langchain.callbacks.shared.SharedCallbackManager object at 0x7fd7c50a2530>, func=<function Tool.__init__.<locals>.func at 0x7fd7c0d4ce50>, coroutine=None, max_output_len=3000),\n",
       " 'search': Tool(name='search', description='Search the Bible for specific keywords or phrases.\\nParameters: {{\"query\": \"Required. string. The keyword or phrase to search for.\", \"version\": \"string. The Bible version to search in.\"}}\\nOutput: Returns a JSON object containing an array of search results, each containing the book, chapter, and verse where the keyword or phrase was found, as well as the text of the verse.\\n - Format: application/json\\n - Structure: Array[Object{{book, chapter, verse, text}}]', args_schema=None, return_direct=False, verbose=False, callback_manager=<langchain.callbacks.shared.SharedCallbackManager object at 0x7fd7c50a2530>, func=<function Tool.__init__.<locals>.func at 0x7fd7c0d4cee0>, coroutine=None, max_output_len=3000),\n",
       " 'getVersions': Tool(name='getVersions', description='Retrieve metadata for specific Bible versions.\\nParameters: {{\"language\": \"string. The language of the Bible version.\", \"publisher\": \"string. The publisher of the Bible version.\"}}\\nOutput: Returns a JSON object containing an array of Bible versions that match the specified criteria, each containing the name of the version, the language used, the publication date, and the publisher.\\n - Format: application/json\\n - Structure: Array[Object{{name, language, publication_date, publisher}}]', args_schema=None, return_direct=False, verbose=False, callback_manager=<langchain.callbacks.shared.SharedCallbackManager object at 0x7fd7c50a2530>, func=<function Tool.__init__.<locals>.func at 0x7fd7c0d4cf70>, coroutine=None, max_output_len=3000)}"
      ]
     },
     "execution_count": 14,
     "metadata": {},
     "output_type": "execute_result"
    }
   ],
   "source": [
    "tools"
   ]
  },
  {
   "cell_type": "code",
   "execution_count": 15,
   "metadata": {},
   "outputs": [
    {
     "name": "stderr",
     "output_type": "stream",
     "text": [
      "1676it [00:26, 64.00it/s] \n"
     ]
    }
   ],
   "source": [
    "def parse_and_call_tool(prediction, tools):\n",
    "    try:\n",
    "        parsed = parser.parse(prediction)\n",
    "        if isinstance(parsed, AgentFinish):\n",
    "            return parsed.return_values['output']\n",
    "        if parsed.tool in tools:\n",
    "            tool = tools[parsed.tool]\n",
    "            res = tool._run(parsed.tool_input)\n",
    "        else:\n",
    "            tool = CustomInvalidTool()\n",
    "            res = tool._run(parsed.tool_input, tools)\n",
    "        return res\n",
    "    except Exception as e:\n",
    "        return str(e)\n",
    "\n",
    "def check_error(response):\n",
    "    if 'Parameter type error' in response or 'Missing required parameters:' in response or 'Could not parse LLM output' in response:\n",
    "        return True\n",
    "    return False\n",
    "\n",
    "def parse_query(meta_prompt):\n",
    "    return meta_prompt.split('Begin!\\n\\nUSER: ')[1].split('\\nASSISTANT Thought:')[0]\n",
    "\n",
    "max_len = len(generations)\n",
    "errors = []\n",
    "for idx, (item_gt, item_pred) in enumerate(tqdm(zip(data[:max_len], generations))):\n",
    "    query = parse_query(item_gt[0][0])\n",
    "    tools = query_tool_mapping[query]\n",
    "\n",
    "    flag = True\n",
    "    for step_idx in range(len(item_gt[0])):\n",
    "        if item_gt[1][step_idx]:\n",
    "            res = parse_and_call_tool(item_gt[0][step_idx], tools)\n",
    "            if check_error(res):\n",
    "                flag = False\n",
    "\n",
    "    if flag:\n",
    "        for step_idx in range(len(item_gt[0])):\n",
    "            if item_gt[1][step_idx]:\n",
    "                res_pred = parse_and_call_tool(item_pred[0][step_idx], tools)\n",
    "                res_gt = parse_and_call_tool(item_gt[0][step_idx], tools)\n",
    "                if not check_error(res_gt) and check_error(res_pred):\n",
    "                    errors.append((item_gt, item_pred, (step_idx, res_gt, res_pred)))"
   ]
  },
  {
   "cell_type": "code",
   "execution_count": 18,
   "metadata": {},
   "outputs": [
    {
     "data": {
      "text/plain": [
       "([['A chat between a curious user and an artificial intelligence assistant. The assistant gives helpful, detailed, and polite answers to the user\\'s questions with the help of some tools.\\nYou have access to the following tools:\\n\\ngetDetails: If the user\\'s question lacks the essential information needed to answer the question effectively, or if the question contains vague terms or pronouns without sufficient context, invoke the `getDetails` function to prompt the user for the missing critical details. However, `getDetails` should not be used in cases where the user omits optional parameters, unless these parameters become necessary in the course of the conversation. \\nParameters: {\"Question\": \"The question to prompt user to provide sufficient information.\"}\\nOutput: User\\'s response.\\nsearch: Search for internet assets based on various parameters\\nParameters: {\"query\": \"Required. string. The search query. Can be a domain name, IP address, SSL certificate information, or other parameters.\", \"page\": \"integer. The page number of the search results. Default is 1.\", \"size\": \"integer. The number of search results per page. Default is 20.\"}\\nOutput: List of internet assets that match the search query.\\n - Format: application/json\\n - Structure: Array[#InternetAsset]\\ngetDomain: Retrieve information about a specific domain\\nParameters: {\"domain\": \"Required. string. The domain name to retrieve information for.\"}\\nOutput: Information about the specified domain.\\n - Format: application/json\\n - Structure: #Domain\\ngetIP: Retrieve information about a specific IP address\\nParameters: {\"ip\": \"Required. string. The IP address to retrieve information for.\"}\\nOutput: Information about the specified IP address.\\n - Format: application/json\\n - Structure: #IP\\ngetSubdomains: Retrieve a list of subdomains for a specific domain\\nParameters: {\"domain\": \"Required. string. The domain name to retrieve subdomains for.\"}\\nOutput: List of subdomains for the specified domain.\\n - Format: application/json\\n - Structure: Array[string]\\ngetSSLCertificates: Retrieve a list of SSL certificates for a specific domain\\nParameters: {\"domain\": \"Required. string. The domain name to retrieve SSL certificates for.\"}\\nOutput: List of SSL certificates for the specified domain.\\n - Format: application/json\\n - Structure: Array[#SSLCertificate]\\ngetPorts: Retrieve a list of open ports for a specific IP address\\nParameters: {\"ip\": \"Required. string. The IP address to retrieve open ports for.\"}\\nOutput: List of open ports for the specified IP address.\\n - Format: application/json\\n - Structure: Array[integer]\\ngetTechnologies: Retrieve a list of technologies used by a specific domain\\nParameters: {\"domain\": \"Required. string. The domain name to retrieve technologies for.\"}\\nOutput: List of technologies used by the specified domain.\\n - Format: application/json\\n - Structure: Array[string]\\ngetOrganization: Retrieve information about the organization that owns a specific domain\\nParameters: {\"domain\": \"Required. string. The domain name to retrieve organization information for.\"}\\nOutput: Information about the organization that owns the specified domain.\\n - Format: application/json\\n - Structure: #Organization\\ngetASN: Retrieve information about the Autonomous System Number (ASN) that a specific IP address belongs to\\nParameters: {\"ip\": \"Required. string. The IP address to retrieve ASN information for.\"}\\nOutput: Information about the ASN that the specified IP address belongs to.\\n - Format: application/json\\n - Structure: #ASNThe detailed output format for the tools is outlined below:\\n#InternetAsset: Object{domain, ip, ssl_certificate: #SSLCertificate}\\n#Domain: Object{name, dns_records: Array[Object{type, value}], ssl_certificates: Array[#SSLCertificate], technologies: Array[string], organization: Object{name, address, country}}\\n#IP: Object{address, open_ports: Array[integer], ssl_certificates: Array[#SSLCertificate], asn: Object{number, name, country}}\\n#SSLCertificate: Object{issuer, subject, valid_from, valid_to}\\n#Organization: Object{name, address, country}\\n#ASN: Object{number, name, country}\\n\\nThe chat follows this format:\\nUSER: the user\\'s question\\nASSISTANT Thought: the assistant\\'s inner thought about what to do next \\nASSISTANT Action: the action to take, must be one of [getDetails, search, getDomain, getIP, getSubdomains, getSSLCertificates, getPorts, getTechnologies, getOrganization, getASN].\\nASSISTANT Action Input: the input for the action, in JSON format.\\nASSISTANT Observation: the result of the action\\n... (this Thought/Action/Action Input/Observation can repeat N times)\\nASSISTANT Thought: summarize the information gathered\\nASSISTANT Response: the final response to the user\\nUSER: user\\'s next question\\n...\\n\\nBegin!\\n\\nUSER: Retrieve the SSL certificate information for the domain name yahoo.com using the API.\\nASSISTANT Thought: ',\n",
       "   'I need to use the getSSLCertificates tool to retrieve the SSL certificate information for the domain name yahoo.com.\\nASSISTANT Action: getSSLCertificates\\nASSISTANT Action Input: {\"domain\": \"yahoo.com\"}\\nASSISTANT Observation: ',\n",
       "   'Status Code: 200. Response: {\"ssl_certificates\":[{\"issuer\":\"DigiCert Inc\",\"subject\":\"*.yahoo.com\",\"valid_from\":\"2022-05-03T00:00:00Z\",\"valid_to\":\"2023-06-07T12:00:00Z\"},{\"issuer\":\"Symantec Corporation\",\"subject\":\"*.yahoo.com\",\"valid_from\":\"2022-05-03T00:00:00Z\",\"valid_to\":\"2023-06-07T12:00:00Z\"},{\"issuer\":\"Yahoo Japan Corporation\",\"subject\":\"*.yahoo.com\",\"valid_from\":\"2022-05-03T00:00:00Z\",\"valid_to\":\"2023-06-07T12:00:00Z\"}]}\\nASSISTANT Thought: ',\n",
       "   'The API returned three SSL certificates for the domain name yahoo.com.\\nASSISTANT Response: The API returned three SSL certificates for the domain name yahoo.com. The certificates were issued by DigiCert Inc, Symantec Corporation, and Yahoo Japan Corporation. The certificates are valid from 2022-05-03 to 2023-06-07.'],\n",
       "  [False, True, False, True]],\n",
       " [['A chat between a curious user and an artificial intelligence assistant. The assistant gives helpful, detailed, and polite answers to the user\\'s questions with the help of some tools.\\nYou have access to the following tools:\\n\\ngetDetails: If the user\\'s question lacks the essential information needed to answer the question effectively, or if the question contains vague terms or pronouns without sufficient context, invoke the `getDetails` function to prompt the user for the missing critical details. However, `getDetails` should not be used in cases where the user omits optional parameters, unless these parameters become necessary in the course of the conversation. \\nParameters: {\"Question\": \"The question to prompt user to provide sufficient information.\"}\\nOutput: User\\'s response.\\nsearch: Search for internet assets based on various parameters\\nParameters: {\"query\": \"Required. string. The search query. Can be a domain name, IP address, SSL certificate information, or other parameters.\", \"page\": \"integer. The page number of the search results. Default is 1.\", \"size\": \"integer. The number of search results per page. Default is 20.\"}\\nOutput: List of internet assets that match the search query.\\n - Format: application/json\\n - Structure: Array[#InternetAsset]\\ngetDomain: Retrieve information about a specific domain\\nParameters: {\"domain\": \"Required. string. The domain name to retrieve information for.\"}\\nOutput: Information about the specified domain.\\n - Format: application/json\\n - Structure: #Domain\\ngetIP: Retrieve information about a specific IP address\\nParameters: {\"ip\": \"Required. string. The IP address to retrieve information for.\"}\\nOutput: Information about the specified IP address.\\n - Format: application/json\\n - Structure: #IP\\ngetSubdomains: Retrieve a list of subdomains for a specific domain\\nParameters: {\"domain\": \"Required. string. The domain name to retrieve subdomains for.\"}\\nOutput: List of subdomains for the specified domain.\\n - Format: application/json\\n - Structure: Array[string]\\ngetSSLCertificates: Retrieve a list of SSL certificates for a specific domain\\nParameters: {\"domain\": \"Required. string. The domain name to retrieve SSL certificates for.\"}\\nOutput: List of SSL certificates for the specified domain.\\n - Format: application/json\\n - Structure: Array[#SSLCertificate]\\ngetPorts: Retrieve a list of open ports for a specific IP address\\nParameters: {\"ip\": \"Required. string. The IP address to retrieve open ports for.\"}\\nOutput: List of open ports for the specified IP address.\\n - Format: application/json\\n - Structure: Array[integer]\\ngetTechnologies: Retrieve a list of technologies used by a specific domain\\nParameters: {\"domain\": \"Required. string. The domain name to retrieve technologies for.\"}\\nOutput: List of technologies used by the specified domain.\\n - Format: application/json\\n - Structure: Array[string]\\ngetOrganization: Retrieve information about the organization that owns a specific domain\\nParameters: {\"domain\": \"Required. string. The domain name to retrieve organization information for.\"}\\nOutput: Information about the organization that owns the specified domain.\\n - Format: application/json\\n - Structure: #Organization\\ngetASN: Retrieve information about the Autonomous System Number (ASN) that a specific IP address belongs to\\nParameters: {\"ip\": \"Required. string. The IP address to retrieve ASN information for.\"}\\nOutput: Information about the ASN that the specified IP address belongs to.\\n - Format: application/json\\n - Structure: #ASNThe detailed output format for the tools is outlined below:\\n#InternetAsset: Object{domain, ip, ssl_certificate: #SSLCertificate}\\n#Domain: Object{name, dns_records: Array[Object{type, value}], ssl_certificates: Array[#SSLCertificate], technologies: Array[string], organization: Object{name, address, country}}\\n#IP: Object{address, open_ports: Array[integer], ssl_certificates: Array[#SSLCertificate], asn: Object{number, name, country}}\\n#SSLCertificate: Object{issuer, subject, valid_from, valid_to}\\n#Organization: Object{name, address, country}\\n#ASN: Object{number, name, country}\\n\\nThe chat follows this format:\\nUSER: the user\\'s question\\nASSISTANT Thought: the assistant\\'s inner thought about what to do next \\nASSISTANT Action: the action to take, must be one of [getDetails, search, getDomain, getIP, getSubdomains, getSSLCertificates, getPorts, getTechnologies, getOrganization, getASN].\\nASSISTANT Action Input: the input for the action, in JSON format.\\nASSISTANT Observation: the result of the action\\n... (this Thought/Action/Action Input/Observation can repeat N times)\\nASSISTANT Thought: summarize the information gathered\\nASSISTANT Response: the final response to the user\\nUSER: user\\'s next question\\n...\\n\\nBegin!\\n\\nUSER: Retrieve the SSL certificate information for the domain name yahoo.com using the API.\\nASSISTANT Thought: ',\n",
       "   ' I need to use the getSSISTANTANT Action to retrieve the SSL certificate information for the domain name yahoo.com.\\nASSISTANT Action: getSSISTANTANT Action Input: {\"domain\": \"yahoo.com\"}',\n",
       "   'Status Code: 200. Response: {\"ssl_certificates\":[{\"issuer\":\"DigiCert Inc\",\"subject\":\"*.yahoo.com\",\"valid_from\":\"2022-05-03T00:00:00Z\",\"valid_to\":\"2023-06-07T12:00:00Z\"},{\"issuer\":\"Symantec Corporation\",\"subject\":\"*.yahoo.com\",\"valid_from\":\"2022-05-03T00:00:00Z\",\"valid_to\":\"2023-06-07T12:00:00Z\"},{\"issuer\":\"Yahoo Japan Corporation\",\"subject\":\"*.yahoo.com\",\"valid_from\":\"2022-05-03T00:00:00Z\",\"valid_to\":\"2023-06-07T12:00:00Z\"}]}\\nASSISTANT Thought: ',\n",
       "   ' The response contains the SSL certificate information for the domain name yahoo.com.\\nASSISTANT Response: The SSL certificate information for the domain name yahoo.com is as follows: \\nIssuer: DigiCert Inc\\nSubject: *.yahoo.com\\nValid From: 2022-05-03T00:00:00Z\\nValid To: 2023-06-07T12:00:00Z\\nIssuer: Symantec Corporation\\nSubject: *.yahoo.com\\nValid From: 2022-05-03T00:00:00Z\\nValid To: 2023-06-07T12:00:00Z\\nIssuer: Yahoo Japan Corporation\\nSubject: *.yahoo.com\\nValid From: 2022-05-03T00:00:00Z\\nValid To: 2023-06-07T12:00:00Z '],\n",
       "  [False, True, False, True]],\n",
       " (1,\n",
       "  \"Status Code: 502. Response: <html><body><h1>502 Connection refused</h1><p><a href='http://cntlm.sf.net/'>Cntlm</a> proxy failed to complete the request.</p></body></html>. You should choose one of: (1) change the input and retry; (2) return the 'Final Answer' and explain what happened; (You must choose this one when the error occurs more than 3 times.) (3) call another function.\",\n",
       "  'Could not parse LLM output: ` I need to use the getSSISTANTANT Action to retrieve the SSL certificate information for the domain name yahoo.com.\\nASSISTANT Action: getSSISTANTANT Action Input: {\"domain\": \"yahoo.com\"}`'))"
      ]
     },
     "execution_count": 18,
     "metadata": {},
     "output_type": "execute_result"
    }
   ],
   "source": [
    "errors[0]"
   ]
  },
  {
   "cell_type": "code",
   "execution_count": 80,
   "metadata": {},
   "outputs": [
    {
     "data": {
      "text/plain": [
       "197"
      ]
     },
     "execution_count": 80,
     "metadata": {},
     "output_type": "execute_result"
    }
   ],
   "source": [
    "len(errors)"
   ]
  },
  {
   "cell_type": "code",
   "execution_count": 81,
   "metadata": {},
   "outputs": [],
   "source": [
    "def construct_correction_example(error):\n",
    "    error_idx = error[-1][0]\n",
    "    gt_chain = error[0][0]\n",
    "    pred_chain = error[1][0]\n",
    "    gt_mask_flags = error[0][1]\n",
    "    error_pred = error[-1][-1]\n",
    "    new_chain = gt_chain[:error_idx] + [pred_chain[error_idx], error_pred] + gt_chain[error_idx:]\n",
    "    new_mask_flags = gt_mask_flags[:error_idx] + [False, False] + gt_mask_flags[error_idx:]\n",
    "    return [new_chain, new_mask_flags]"
   ]
  },
  {
   "cell_type": "code",
   "execution_count": 82,
   "metadata": {},
   "outputs": [
    {
     "data": {
      "text/plain": [
       "[['A chat between a curious user and an artificial intelligence assistant. The assistant gives helpful, detailed, and polite answers to the user\\'s questions with the help of some tools.\\nYou have access to the following tools:\\n\\ngetDetails: If the user\\'s question lacks the essential information needed to answer the question effectively, or if the question contains vague terms or pronouns without sufficient context, invoke the `getDetails` function to prompt the user for the missing critical details. However, `getDetails` should not be used in cases where the user omits optional parameters, unless these parameters become necessary in the course of the conversation. \\nParameters: {\"Question\": \"The question to prompt user to provide sufficient information.\"}\\nOutput: User\\'s response.\\nrequestData: Request data from any API or data source and securely transmit it to a smart contract on the blockchain.\\nParameters: {\"endpoint\": \"string. The API endpoint to request data from.\", \"method\": \"string. The HTTP method to use for the request (GET, POST, etc.). One of: [GET, POST, PUT, DELETE].\", \"params\": \"Object. Any parameters to include in the request.\", \"headers\": \"Object. Any headers to include in the request.\", \"dataPath\": \"string. The JSON path to the data in the response.\", \"dataFormat\": \"string. The format of the data in the response (JSON, XML, etc.).\"}\\nOutput: Requested data and transaction hash.\\n - Format: application/json\\n - Structure: Object{data: Object, txHash}\\ncreateOracle: Create a new oracle node on the Chainlink network.\\nParameters: {\"name\": \"string. The name of the oracle node.\", \"publicKey\": \"string. The public key of the oracle node.\", \"jobIds\": \"Array[string]. An array of job IDs that the oracle node is authorized to perform.\", \"fee\": \"integer. The fee that the oracle node charges for each request.\"}\\nOutput: Confirmation and oracle address.\\n - Format: application/json\\n - Structure: Object{confirmation, address}\\ncreateJob: Create a new job on the Chainlink network.\\nParameters: {\"name\": \"string. The name of the job.\", \"tasks\": \"Array[Object. ]. An array of tasks to be performed by the job.\", \"startAt\": \"integer. The timestamp at which the job should start.\", \"endAt\": \"integer. The timestamp at which the job should end.\", \"initiators\": \"Array[Object. ]. An array of initiators for the job.\", \"minPayment\": \"integer. The minimum payment required for the job.\"}\\nOutput: Confirmation and job ID.\\n - Format: application/json\\n - Structure: Object{confirmation, jobId}\\nrequestPayment: Request payment for a job performed by an oracle node.\\nParameters: {\"jobId\": \"string. The ID of the job for which payment is being requested.\", \"oracleAddress\": \"string. The address of the oracle node that performed the job.\", \"payment\": \"integer. The amount of payment being requested.\", \"data\": \"Object. The data that was returned by the oracle node.\"}\\nOutput: Confirmation and transaction hash.\\n - Format: application/json\\n - Structure: Object{confirmation, txHash}\\n\\nThe chat follows this format:\\nUSER: the user\\'s question\\nASSISTANT Thought: the assistant\\'s inner thought about what to do next \\nASSISTANT Action: the action to take, must be one of [getDetails, requestData, createOracle, createJob, requestPayment].\\nASSISTANT Action Input: the input for the action, in JSON format.\\nASSISTANT Observation: the result of the action\\n... (this Thought/Action/Action Input/Observation can repeat N times)\\nASSISTANT Thought: summarize the information gathered\\nASSISTANT Response: the final response to the user\\nUSER: user\\'s next question\\n...\\n\\nBegin!\\n\\nUSER: Please set up a hybrid smart contract that triggers a payment to my bank account when my stock portfolio reaches a certain value.\\nASSISTANT Thought: ',\n",
       "  ' I need to use a smart contract to store the value of the user\\'s portfolio and trigger a payment when it reaches a certain value.\\nASSISTANT Action: createOracle\\nASSISTANT Action Input: {\"name\": \"My Portfolio Oracle\", \"publicKey\": \"123456789\", \"jobIds\": [\"portfolioValue\"], \"fee\": 0.001}',\n",
       "  'Parameter type error: \"fee\", expected integer, but got number. You need to change the input and try again.',\n",
       "  'I need to create an oracle node, a job, and a payment request.\\nASSISTANT Action: createOracle\\nASSISTANT Action Input: {\"name\": \"My Oracle Node\", \"publicKey\": \"0x123456789abcdef\", \"jobIds\": [\"job1\"], \"fee\": 10}\\nASSISTANT Observation: ',\n",
       "  'Status Code: 200. Response: {\"response\":\"{\\\\n  \\\\\"confirmation\\\\\": \\\\\"Oracle created successfully\\\\\",\\\\n  \\\\\"address\\\\\": \\\\\"0xa1B2c3d4E5f67890\\\\\",\\\\n}\"}\\nASSISTANT Thought: ',\n",
       "  'I need to create a job that will monitor the stock portfolio.\\nASSISTANT Action: createJob\\nASSISTANT Action Input: {\"name\": \"My Job\", \"tasks\": [{\"type\": \"httpGet\", \"params\": {\"url\": \"https://example.com/stock-portfolio\"}}], \"startAt\": 1597880000, \"endAt\": 1598484800, \"initiators\": [{\"type\": \"runAtInterval\", \"params\": {\"interval\": \"1 day\"}}], \"minPayment\": 10}\\nASSISTANT Observation: ',\n",
       "  'Status Code: 200. Response: {\"confirmation\":\"Job created successfully\",\"jobId\":\"job1\"}\\nASSISTANT Thought: ',\n",
       "  'I need to request payment for the job.\\nASSISTANT Action: requestPayment\\nASSISTANT Action Input: {\"jobId\": \"job1\", \"oracleAddress\": \"0xa1B2c3d4E5f67890\", \"payment\": 10, \"data\": {\"portfolioValue\": 1000}}\\nASSISTANT Observation: ',\n",
       "  'Status Code: 200. Response: {\"confirmation\":\"Payment requested successfully\",\"txHash\":\"0x1a2B3c4D5e6F7890A1b2c3d4E5f678901A2b3c4d5E6f78901a2B3c4d5e6f7890\"}\\nASSISTANT Thought: ',\n",
       "  'I have created an oracle node, a job, and requested payment for the job.\\nASSISTANT Response: Your hybrid smart contract has been set up successfully. The oracle node will monitor your stock portfolio and trigger a payment to your bank account when the portfolio reaches the specified value. The transaction hash for the payment request is 0x1a2B3c4D5e6F7890A1b2c3d4E5f678901A2b3c4d5E6f78901a2B3c4d5e6f7890.'],\n",
       " [False, False, False, True, False, True, False, True, False, True]]"
      ]
     },
     "execution_count": 82,
     "metadata": {},
     "output_type": "execute_result"
    }
   ],
   "source": [
    "construct_correction_example(errors[105])"
   ]
  },
  {
   "cell_type": "code",
   "execution_count": 83,
   "metadata": {},
   "outputs": [],
   "source": [
    "correction_examples = []\n",
    "for item in errors:\n",
    "    correction_examples.append(construct_correction_example(item))"
   ]
  },
  {
   "cell_type": "code",
   "execution_count": 84,
   "metadata": {},
   "outputs": [
    {
     "data": {
      "text/plain": [
       "197"
      ]
     },
     "execution_count": 84,
     "metadata": {},
     "output_type": "execute_result"
    }
   ],
   "source": [
    "len(correction_examples)"
   ]
  },
  {
   "cell_type": "code",
   "execution_count": 153,
   "metadata": {},
   "outputs": [],
   "source": [
    "# json.dump(correction_examples, open('../data/correction_examples_val_model_trained_on_half_train.json', 'w'))"
   ]
  },
  {
   "cell_type": "markdown",
   "metadata": {},
   "source": [
    "Попробуем почистить трейн выборку от ошибок новым способом"
   ]
  },
  {
   "cell_type": "code",
   "execution_count": 92,
   "metadata": {},
   "outputs": [],
   "source": [
    "full_train_preprocessed = json.load(open('../data/train_data_train_part', 'r'))"
   ]
  },
  {
   "cell_type": "code",
   "execution_count": 93,
   "metadata": {},
   "outputs": [
    {
     "data": {
      "text/plain": [
       "2261"
      ]
     },
     "execution_count": 93,
     "metadata": {},
     "output_type": "execute_result"
    }
   ],
   "source": [
    "len(full_train_preprocessed)"
   ]
  },
  {
   "cell_type": "code",
   "execution_count": 94,
   "metadata": {},
   "outputs": [
    {
     "name": "stderr",
     "output_type": "stream",
     "text": [
      "  6%|███▋                                                        | 140/2261 [00:00<00:06, 330.52it/s]"
     ]
    },
    {
     "name": "stdout",
     "output_type": "stream",
     "text": [
      "Parameter type error: \"fontType\", expected one of ['Arial', 'Helvetica', 'Times New Roman', 'Courier New', 'Verdana'], but got \"Courier\". You need to change the input and try again.\n",
      "Parameter type error: \"color\", expected one of ['black', 'white', 'red', 'green', 'blue'], but got \"orange\". You need to change the input and try again.\n",
      "Parameter type error: \"color\", expected one of ['black', 'white', 'red', 'green', 'blue'], but got \"orange\". You need to change the input and try again.\n",
      "Parameter type error: \"fontType\", expected one of ['Arial', 'Helvetica', 'Times New Roman', 'Courier New', 'Verdana'], but got \"Roboto\". You need to change the input and try again.\n",
      "Parameter type error: \"color\", expected one of ['black', 'white', 'red', 'green', 'blue'], but got \"purple\". You need to change the input and try again.\n",
      "Parameter type error: \"color\", expected one of ['black', 'white', 'red', 'green', 'blue'], but got \"user-selected-color\". You need to change the input and try again.\n",
      "Parameter type error: \"color\", expected one of ['black', 'white', 'red', 'green', 'blue'], but got \"user-selected-color\". You need to change the input and try again.\n"
     ]
    },
    {
     "name": "stderr",
     "output_type": "stream",
     "text": [
      " 12%|███████▍                                                    | 281/2261 [00:00<00:06, 329.27it/s]"
     ]
    },
    {
     "name": "stdout",
     "output_type": "stream",
     "text": [
      "Parameter type error: \"countryCode\", expected string, but got array. You need to change the input and try again.\n",
      "Parameter type error: \"city\", expected string, but got integer. You need to change the input and try again.\n",
      "Parameter type error: \"city\", expected string, but got integer. You need to change the input and try again.\n",
      "Parameter type error: \"type\", expected one of ['education', 'recreational', 'social', 'diy', 'charity', 'cooking', 'relaxation', 'music', 'busywork'], but got \"romantic\". You need to change the input and try again.\n"
     ]
    },
    {
     "name": "stderr",
     "output_type": "stream",
     "text": [
      " 16%|█████████▍                                                  | 355/2261 [00:01<00:06, 305.05it/s]"
     ]
    },
    {
     "name": "stdout",
     "output_type": "stream",
     "text": [
      "Parameter type error: \"parkingId\", expected integer, but got string. You need to change the input and try again.\n",
      "Parameter type error: \"length\", expected integer, but got string. You need to change the input and try again.\n",
      "Parameter type error: \"limit\", expected integer, but got string. You need to change the input and try again.\n"
     ]
    },
    {
     "name": "stderr",
     "output_type": "stream",
     "text": [
      " 19%|███████████▍                                                | 429/2261 [00:01<00:05, 325.68it/s]"
     ]
    },
    {
     "name": "stdout",
     "output_type": "stream",
     "text": [
      "Parameter type error: \"routeNumber\", expected integer, but got None. You need to change the input and try again.\n",
      "Parameter type error: \"id\", expected integer, but got string. You need to change the input and try again.\n",
      "Parameter type error: \"id\", expected integer, but got string. You need to change the input and try again.\n",
      "Parameter type error: \"limit\", expected integer, but got None. You need to change the input and try again.\n",
      "Parameter type error: \"surfaceType\", expected one of ['grass', 'asphalt', 'concrete', 'water', 'snow'], but got \"well-lit\". You need to change the input and try again.\n",
      "Parameter type error: \"facilities\", expected string, but got array. You need to change the input and try again.\n",
      "Parameter type error: \"type\", expected one of ['accident', 'construction', 'road closure', 'weather'], but got \"accident, construction\". You need to change the input and try again.\n"
     ]
    },
    {
     "name": "stderr",
     "output_type": "stream",
     "text": [
      " 22%|█████████████▎                                              | 500/2261 [00:01<00:05, 330.29it/s]"
     ]
    },
    {
     "name": "stdout",
     "output_type": "stream",
     "text": [
      "Parameter type error: \"industry\", expected one of ['construction', 'healthcare', 'education', 'transportation'], but got \"pharmaceutical\". You need to change the input and try again.\n",
      "Parameter type error: \"range\", expected string, but got integer. You need to change the input and try again.\n",
      "Parameter type error: \"range\", expected one of ['10', '20', '50', '100'], but got \"10\". You need to change the input and try again.\n"
     ]
    },
    {
     "name": "stderr",
     "output_type": "stream",
     "text": [
      " 27%|███████████████▉                                            | 602/2261 [00:01<00:05, 321.97it/s]"
     ]
    },
    {
     "name": "stdout",
     "output_type": "stream",
     "text": [
      "Parameter type error: \"category\", expected one of ['health', 'education', 'environment', 'transportation', 'finance', 'public safety'], but got \"healthcare\". You need to change the input and try again.\n",
      "Parameter type error: \"region\", expected one of ['us', 'gb', 'ca', 'au', 'in'], but got \"eu\". You need to change the input and try again.\n",
      "Parameter type error: \"region\", expected one of ['us', 'gb', 'ca', 'au', 'in'], but got \"in,gb,de,fr,es\". You need to change the input and try again.\n",
      "Parameter type error: \"region\", expected one of ['us', 'gb', 'ca', 'au', 'in'], but got \"south america\". You need to change the input and try again.\n",
      "Parameter type error: \"region\", expected one of ['us', 'gb', 'ca', 'au', 'in'], but got \"south america\". You need to change the input and try again.\n",
      "Parameter type error: \"region\", expected one of ['us', 'gb', 'ca', 'au', 'in'], but got \"eu\". You need to change the input and try again.\n",
      "Parameter type error: \"region\", expected one of ['us', 'gb', 'ca', 'au', 'in'], but got \"asia\". You need to change the input and try again.\n",
      "Parameter type error: \"recipients\", expected array, but got string. You need to change the input and try again.\n",
      "Parameter type error: \"platform\", expected one of ['steam', 'epic', 'gog'], but got \"all\". You need to change the input and try again.\n"
     ]
    },
    {
     "name": "stderr",
     "output_type": "stream",
     "text": [
      " 32%|██████████████████▉                                         | 713/2261 [00:02<00:04, 330.62it/s]"
     ]
    },
    {
     "name": "stdout",
     "output_type": "stream",
     "text": [
      "Parameter type error: \"limit\", expected integer, but got string. You need to change the input and try again.\n",
      "Parameter type error: \"characterId\", expected integer, but got string. You need to change the input and try again.\n"
     ]
    },
    {
     "name": "stderr",
     "output_type": "stream",
     "text": [
      " 36%|█████████████████████▌                                      | 814/2261 [00:02<00:05, 284.31it/s]"
     ]
    },
    {
     "name": "stdout",
     "output_type": "stream",
     "text": [
      "Parameter type error: \"format\", expected one of ['4cs', '6502acme', '6502kickass', '6502tasm', 'abap', 'actionscript', 'actionscript3', 'ada', 'aimms', 'algol68', 'apache', 'applescript', 'apt_sources', 'arm', 'asm', 'asp', 'asymptote', 'autoconf', 'autohotkey', 'autoit', 'avisynth', 'awk', 'bascomavr', 'bash', 'basic4gl', 'batch', 'bf', 'bibtex', 'blitzbasic', 'bnf', 'boo', 'brainfuck', 'bro', 'c', 'c_loadrunner', 'c_mac', 'caddcl', 'cadlisp', 'cfdg', 'chaiscript', 'chapel', 'cil', 'clojure', 'cmake', 'cobol', 'coffeescript', 'coldfusion', 'csharp', 'csp', 'css', 'cuesheet', 'd', 'dart', 'dcl', 'dcpu16', 'dcs', 'delphi', 'diff', 'div', 'dos', 'dot', 'e', 'ecmascript', 'eiffel', 'email', 'epc', 'erlang', 'euphoria', 'f#', 'falcon', 'filemaker', 'fo', 'f1', 'fortran', 'freebasic', 'freeswitch', 'gambas', 'gdb', 'genero', 'genie', 'gettext', 'glsl', 'gml', 'gnuplot', 'go', 'groovy', 'gwbasic', 'haskell', 'haxe', 'hicest', 'hq9plus', 'html4strict', 'html5', 'icon', 'idl', 'ini', 'inno', 'intercal', 'io', 'ispfpanel', 'j', 'java', 'java5', 'javascript', 'jcl', 'jquery', 'json', 'julia', 'kixtart', 'kotlin', 'latex', 'ldif', 'lb', 'lisp', 'llvm', 'locobasic', 'logtalk', 'lolcode', 'lotusformulas', 'lotusscript', 'lscript', 'lua', 'm68k', 'magiksf', 'make', 'mapbasic', 'markdown', 'matlab', 'mirc', 'mmix', 'modula2', 'modula3', 'mpasm', 'mxml', 'mysql', 'nagios', 'netrexx', 'newlisp', 'nginx', 'nim', 'nsis', 'oberon2', 'objc', 'objeck', 'ocaml', 'ocaml-brief', 'octave', 'oorexx', 'oscript', 'oxygene', 'oz', 'pascal', 'pawn', 'pcre', 'per', 'perl', 'perl6', 'pf', 'php', 'php-brief', 'pic16', 'pike', 'pixelbender', 'pli', 'plsql', 'postgresql', 'postscript', 'povray', 'powerbuilder', 'powershell', 'proftpd', 'progress', 'prolog', 'properties', 'providex', 'puppet', 'purebasic', 'pycon', 'python', 'pys60', 'q', 'qbasic', 'qml', 'r', 'racket', 'rails', 'rbs', 'rebol', 'reg', 'rexx', 'robots', 'rpmspec', 'rsplus', 'ruby', 'sas', 'scala', 'scheme', 'scilab', 'sdlbasic', 'smalltalk', 'smarty', 'spark', 'sparql', 'sql', 'standardml', 'stonescript', 'sclang', 'swift', 'systemverilog', 'tcl', 'teraterm', 'thinbasic', 'typoscript', 'unicon', 'uscript', 'upc', 'urbi', 'vala', 'vb', 'vbnet', 'vbscript', 'vedit', 'verilog', 'vhdl', 'vim', 'visualprolog', 'vb5', 'vb6', 'vbscript', 'wdiff', 'winbatch', 'xbasic', 'xml', 'xorg_conf', 'xpp', 'yaml', 'z80', 'zxbasic'], but got \"JavaScript\". You need to change the input and try again.\n",
      "Parameter type error: \"activityType\", expected one of ['login', 'mail', 'calendar', 'drive', 'sharepoint', 'teams'], but got \"string. One of: [login, mail, calendar, drive, sharepoint, teams] The type of activity to filter logs by.\". You need to change the input and try again.\n",
      "Parameter type error: \"pageSize\", expected integer, but got string. You need to change the input and try again.\n",
      "Parameter type error: \"pageNumber\", expected integer, but got string. You need to change the input and try again.\n",
      "Parameter type error: \"action\", expected one of ['create', 'update', 'delete'], but got \"string. One of: [create, update, delete]\". You need to change the input and try again.\n",
      "Parameter type error: \"action\", expected one of ['create', 'update', 'delete'], but got \"string. One of: [create, update, delete]\". You need to change the input and try again.\n"
     ]
    },
    {
     "name": "stderr",
     "output_type": "stream",
     "text": [
      " 40%|████████████████████████▏                                   | 910/2261 [00:02<00:04, 292.94it/s]"
     ]
    },
    {
     "name": "stdout",
     "output_type": "stream",
     "text": [
      "Parameter type error: \"limit\", expected integer, but got None. You need to change the input and try again.\n",
      "Parameter type error: \"offset\", expected integer, but got None. You need to change the input and try again.\n",
      "Parameter type error: \"maxProtein\", expected integer, but got None. You need to change the input and try again.\n",
      "Parameter type error: \"minFat\", expected integer, but got None. You need to change the input and try again.\n",
      "Parameter type error: \"maxFat\", expected integer, but got None. You need to change the input and try again.\n",
      "Parameter type error: \"minCarbs\", expected integer, but got None. You need to change the input and try again.\n",
      "Parameter type error: \"maxProtein\", expected integer, but got None. You need to change the input and try again.\n",
      "Parameter type error: \"maxFat\", expected integer, but got None. You need to change the input and try again.\n",
      "Parameter type error: \"width\", expected integer, but got None. You need to change the input and try again.\n",
      "Parameter type error: \"height\", expected integer, but got None. You need to change the input and try again.\n",
      "Parameter type error: \"chainId\", expected integer, but got string. You need to change the input and try again.\n",
      "Parameter type error: \"address\", expected string, but got array. You need to change the input and try again.\n"
     ]
    },
    {
     "name": "stderr",
     "output_type": "stream",
     "text": [
      " 44%|██████████████████████████                                 | 1000/2261 [00:03<00:04, 258.58it/s]"
     ]
    },
    {
     "name": "stdout",
     "output_type": "stream",
     "text": [
      "Parameter type error: \"skillLevel\", expected one of ['entry-level', 'mid-level', 'senior-level'], but got \"expert-level\". You need to change the input and try again.\n",
      "Parameter type error: \"skillLevel\", expected one of ['entry-level', 'mid-level', 'senior-level'], but got \"all\". You need to change the input and try again.\n",
      "Parameter type error: \"skillLevel\", expected one of ['entry-level', 'mid-level', 'senior-level'], but got \"intermediate-level\". You need to change the input and try again.\n",
      "Parameter type error: \"skillLevel\", expected one of ['entry-level', 'mid-level', 'senior-level'], but got \"expert-level\". You need to change the input and try again.\n"
     ]
    },
    {
     "name": "stderr",
     "output_type": "stream",
     "text": [
      " 48%|████████████████████████████▎                              | 1085/2261 [00:03<00:04, 250.69it/s]"
     ]
    },
    {
     "name": "stdout",
     "output_type": "stream",
     "text": [
      "Parameter type error: \"limit\", expected integer, but got string. You need to change the input and try again.\n",
      "Parameter type error: \"offset\", expected integer, but got string. You need to change the input and try again.\n",
      "Parameter type error: \"routeId\", expected integer, but got string. You need to change the input and try again.\n"
     ]
    },
    {
     "name": "stderr",
     "output_type": "stream",
     "text": [
      " 53%|███████████████████████████████                            | 1192/2261 [00:04<00:04, 251.64it/s]"
     ]
    },
    {
     "name": "stdout",
     "output_type": "stream",
     "text": [
      "Parameter type error: \"rarity\", expected integer, but got string. You need to change the input and try again.\n",
      "Parameter type error: \"monsterId\", expected integer, but got string. You need to change the input and try again.\n"
     ]
    },
    {
     "name": "stderr",
     "output_type": "stream",
     "text": [
      " 54%|███████████████████████████████▊                           | 1219/2261 [00:04<00:04, 254.67it/s]"
     ]
    },
    {
     "name": "stdout",
     "output_type": "stream",
     "text": [
      "Parameter type error: \"preferences\", expected object, but got string. You need to change the input and try again.\n",
      "Missing required parameters: \"targetCurrency\". You need to change the input and try again.\n",
      "Parameter type error: \"interval\", expected one of ['1min', '5min', '15min', '30min', '60min', 'daily', 'weekly', 'monthly'], but got \"hourly\". You need to change the input and try again.\n",
      "Missing required parameters: \"playerName\". You need to change the input and try again.\n"
     ]
    },
    {
     "name": "stderr",
     "output_type": "stream",
     "text": [
      " 65%|██████████████████████████████████████▍                    | 1472/2261 [00:05<00:02, 273.55it/s]"
     ]
    },
    {
     "name": "stdout",
     "output_type": "stream",
     "text": [
      "Parameter type error: \"policyType\", expected one of ['Lockdown', 'Travel restrictions', 'Social distancing', 'Vaccination', 'Testing', 'Contact tracing', 'Quarantine'], but got \"Support for businesses\". You need to change the input and try again.\n",
      "Parameter type error: \"policyType\", expected one of ['Lockdown', 'Travel restrictions', 'Social distancing', 'Vaccination', 'Testing', 'Contact tracing', 'Quarantine'], but got \"Mask mandates\". You need to change the input and try again.\n",
      "Parameter type error: \"latitude\", expected number, but got string. You need to change the input and try again.\n",
      "Parameter type error: \"longitude\", expected number, but got string. You need to change the input and try again.\n",
      "Parameter type error: \"filters\", expected object, but got string. You need to change the input and try again.\n",
      "Parameter type error: \"filters\", expected object, but got string. You need to change the input and try again.\n",
      "Parameter type error: \"episodeId\", expected integer, but got string. You need to change the input and try again.\n",
      "Parameter type error: \"characterId\", expected integer, but got string. You need to change the input and try again.\n"
     ]
    },
    {
     "name": "stderr",
     "output_type": "stream",
     "text": [
      " 69%|████████████████████████████████████████▋                  | 1557/2261 [00:05<00:02, 240.29it/s]"
     ]
    },
    {
     "name": "stdout",
     "output_type": "stream",
     "text": [
      "Parameter type error: \"rarity\", expected one of ['Common', 'Uncommon', 'Rare', 'Rare Holo', 'Rare Holo EX', 'Rare Ultra', 'Rare Secret', 'Rare Rainbow', 'Rare Prism', 'Rare ACE', 'Rare BREAK', 'Rare Holo GX', 'Rare Holo V', 'Rare Holo VMAX'], but got \"Holo Rare\". You need to change the input and try again.\n",
      "Parameter type error: \"type\", expected one of ['Grass', 'Fire', 'Water', 'Lightning', 'Psychic', 'Fighting', 'Darkness', 'Metal', 'Fairy', 'Dragon', 'Colorless'], but got \"Electric\". You need to change the input and try again.\n",
      "Parameter type error: \"rarity\", expected one of ['Common', 'Uncommon', 'Rare', 'Rare Holo', 'Rare Holo EX', 'Rare Ultra', 'Rare Secret', 'Rare Rainbow', 'Rare Prism', 'Rare ACE', 'Rare BREAK', 'Rare Holo GX', 'Rare Holo V', 'Rare Holo VMAX'], but got \"Secret Rare\". You need to change the input and try again.\n",
      "Parameter type error: \"productName\", expected string, but got array. You need to change the input and try again.\n",
      "Parameter type error: \"upcCode\", expected string, but got array. You need to change the input and try again.\n",
      "Parameter type error: \"productName\", expected string, but got array. You need to change the input and try again.\n"
     ]
    },
    {
     "name": "stderr",
     "output_type": "stream",
     "text": [
      " 74%|███████████████████████████████████████████▍               | 1664/2261 [00:05<00:01, 313.27it/s]"
     ]
    },
    {
     "name": "stdout",
     "output_type": "stream",
     "text": [
      "Parameter type error: \"region\", expected one of ['england-and-wales', 'scotland', 'northern-ireland'], but got \"Northern Ireland\". You need to change the input and try again.\n",
      "Parameter type error: \"region\", expected one of ['england-and-wales', 'scotland', 'northern-ireland'], but got \"Northern Ireland\". You need to change the input and try again.\n"
     ]
    },
    {
     "name": "stderr",
     "output_type": "stream",
     "text": [
      " 83%|█████████████████████████████████████████████████          | 1879/2261 [00:06<00:01, 338.48it/s]"
     ]
    },
    {
     "name": "stdout",
     "output_type": "stream",
     "text": [
      "Parameter type error: \"type\", expected one of ['acts', 'regulations', 'bills'], but got \"education\". You need to change the input and try again.\n",
      "Parameter type error: \"id\", expected integer, but got string. You need to change the input and try again.\n",
      "Parameter type error: \"feed_id\", expected integer, but got string. You need to change the input and try again.\n"
     ]
    },
    {
     "name": "stderr",
     "output_type": "stream",
     "text": [
      " 86%|██████████████████████████████████████████████████▉        | 1950/2261 [00:06<00:00, 345.16it/s]"
     ]
    },
    {
     "name": "stdout",
     "output_type": "stream",
     "text": [
      "Parameter type error: \"mmsi\", expected integer, but got string. You need to change the input and try again.\n",
      "Parameter type error: \"lat\", expected number, but got string. You need to change the input and try again.\n",
      "Parameter type error: \"lng\", expected number, but got string. You need to change the input and try again.\n"
     ]
    },
    {
     "name": "stderr",
     "output_type": "stream",
     "text": [
      " 89%|████████████████████████████████████████████████████▋      | 2021/2261 [00:06<00:00, 333.34it/s]"
     ]
    },
    {
     "name": "stdout",
     "output_type": "stream",
     "text": [
      "Parameter type error: \"lat\", expected number, but got string. You need to change the input and try again.\n",
      "Parameter type error: \"lng\", expected number, but got string. You need to change the input and try again.\n",
      "Parameter type error: \"lat\", expected number, but got string. You need to change the input and try again.\n",
      "Parameter type error: \"lng\", expected number, but got string. You need to change the input and try again.\n"
     ]
    },
    {
     "name": "stderr",
     "output_type": "stream",
     "text": [
      " 92%|██████████████████████████████████████████████████████▌    | 2089/2261 [00:07<00:00, 314.76it/s]"
     ]
    },
    {
     "name": "stdout",
     "output_type": "stream",
     "text": [
      "Parameter type error: \"f_has_lyrics\", expected string, but got integer. You need to change the input and try again.\n",
      "Parameter type error: \"f_has_lyrics\", expected one of ['0', '1'], but got \"1\". You need to change the input and try again.\n",
      "Parameter type error: \"f_has_lyrics\", expected string, but got integer. You need to change the input and try again.\n",
      "Parameter type error: \"f_has_lyrics\", expected one of ['0', '1'], but got \"1\". You need to change the input and try again.\n",
      "Parameter type error: \"f_has_lyrics\", expected string, but got integer. You need to change the input and try again.\n",
      "Parameter type error: \"f_has_lyrics\", expected one of ['0', '1'], but got \"1\". You need to change the input and try again.\n",
      "Parameter type error: \"f_artist_id\", expected integer, but got string. You need to change the input and try again.\n",
      "Parameter type error: \"f_music_genre_id\", expected integer, but got string. You need to change the input and try again.\n",
      "Parameter type error: \"page_size\", expected integer, but got string. You need to change the input and try again.\n",
      "Parameter type error: \"page\", expected integer, but got string. You need to change the input and try again.\n",
      "Parameter type error: \"f_artist_id\", expected integer, but got string. You need to change the input and try again.\n",
      "Parameter type error: \"f_music_genre_id\", expected integer, but got string. You need to change the input and try again.\n",
      "Parameter type error: \"f_artist_id\", expected integer, but got string. You need to change the input and try again.\n",
      "Parameter type error: \"f_music_genre_id\", expected integer, but got string. You need to change the input and try again.\n",
      "Parameter type error: \"f_has_lyrics\", expected string, but got integer. You need to change the input and try again.\n",
      "Parameter type error: \"f_has_lyrics\", expected one of ['0', '1'], but got \"1\". You need to change the input and try again.\n",
      "Parameter type error: \"f_artist_id\", expected integer, but got string. You need to change the input and try again.\n",
      "Parameter type error: \"f_music_genre_id\", expected integer, but got string. You need to change the input and try again.\n",
      "Parameter type error: \"page\", expected integer, but got string. You need to change the input and try again.\n",
      "Parameter type error: \"f_has_lyrics\", expected string, but got integer. You need to change the input and try again.\n",
      "Parameter type error: \"f_has_lyrics\", expected one of ['0', '1'], but got \"1\". You need to change the input and try again.\n",
      "Parameter type error: \"achievementId\", expected integer, but got string. You need to change the input and try again.\n"
     ]
    },
    {
     "name": "stderr",
     "output_type": "stream",
     "text": [
      " 98%|█████████████████████████████████████████████████████████▌ | 2205/2261 [00:07<00:00, 345.69it/s]"
     ]
    },
    {
     "name": "stdout",
     "output_type": "stream",
     "text": [
      "Parameter type error: \"type\", expected one of ['rock', 'pop', 'hiphop', 'jazz', 'blues', 'country', 'classical', 'electronic', 'reggae', 'latin', 'metal', 'folk', 'indie', 'punk', 'rnb', 'soul', 'world', 'religious', 'kids', 'instrumental', 'other'], but got \"upbeat\". You need to change the input and try again.\n",
      "Parameter type error: \"type\", expected one of ['rock', 'pop', 'hiphop', 'jazz', 'blues', 'country', 'classical', 'electronic', 'reggae', 'latin', 'metal', 'folk', 'indie', 'punk', 'rnb', 'soul', 'world', 'religious', 'kids', 'instrumental', 'other'], but got \"upbeat\". You need to change the input and try again.\n",
      "Parameter type error: \"type\", expected one of ['rock', 'pop', 'hiphop', 'jazz', 'blues', 'country', 'classical', 'electronic', 'reggae', 'latin', 'metal', 'folk', 'indie', 'punk', 'rnb', 'soul', 'world', 'religious', 'kids', 'instrumental', 'other'], but got \"romantic\". You need to change the input and try again.\n",
      "Parameter type error: \"type\", expected one of ['rock', 'pop', 'hiphop', 'jazz', 'blues', 'country', 'classical', 'electronic', 'reggae', 'latin', 'metal', 'folk', 'indie', 'punk', 'rnb', 'soul', 'world', 'religious', 'kids', 'instrumental', 'other'], but got \"romantic\". You need to change the input and try again.\n",
      "Missing required parameters: \"date\". You need to change the input and try again.\n",
      "Parameter type error: \"purity\", expected one of ['sfw', 'sketchy', 'nsfw'], but got \"SFW\". You need to change the input and try again.\n",
      "Parameter type error: \"atleast\", expected integer, but got string. You need to change the input and try again.\n",
      "Missing required parameters: \"workflow_id\". You need to change the input and try again.\n"
     ]
    },
    {
     "name": "stderr",
     "output_type": "stream",
     "text": [
      "100%|███████████████████████████████████████████████████████████| 2261/2261 [00:07<00:00, 298.44it/s]"
     ]
    },
    {
     "name": "stdout",
     "output_type": "stream",
     "text": [
      "Missing required parameters: \"courseCode\". You need to change the input and try again.\n"
     ]
    },
    {
     "name": "stderr",
     "output_type": "stream",
     "text": [
      "\n"
     ]
    }
   ],
   "source": [
    "cleaned_train = []\n",
    "for item in tqdm(full_train_preprocessed):\n",
    "    query = parse_query(item[0][0])\n",
    "    tools = query_tool_mapping[query]\n",
    "    flag = True\n",
    "    for step_idx in range(len(item[0])):\n",
    "        if item[1][step_idx]:\n",
    "            res = parse_and_call_tool(item[0][step_idx], tools)\n",
    "            if check_error(res):\n",
    "                print(res)\n",
    "                flag = False\n",
    "    if flag:\n",
    "        cleaned_train.append(item)"
   ]
  },
  {
   "cell_type": "code",
   "execution_count": 34,
   "metadata": {},
   "outputs": [
    {
     "data": {
      "text/plain": [
       "1616"
      ]
     },
     "execution_count": 34,
     "metadata": {},
     "output_type": "execute_result"
    }
   ],
   "source": [
    "len(cleaned_train)"
   ]
  },
  {
   "cell_type": "code",
   "execution_count": 35,
   "metadata": {},
   "outputs": [],
   "source": [
    "# json.dump(cleaned_train, open('../data/train_data_val_part_no_invalid_params_errors.json', 'w'))"
   ]
  },
  {
   "cell_type": "markdown",
   "metadata": {},
   "source": [
    "Попробуем добавить дополнительный thought между ошибкой и ее исправлением, как в GPT4Tools"
   ]
  },
  {
   "cell_type": "code",
   "execution_count": 85,
   "metadata": {},
   "outputs": [
    {
     "name": "stderr",
     "output_type": "stream",
     "text": [
      "1676it [00:15, 110.83it/s]\n"
     ]
    }
   ],
   "source": [
    "def parse_and_call_tool(prediction, tools):\n",
    "    try:\n",
    "        parsed = parser.parse(prediction)\n",
    "        if isinstance(parsed, AgentFinish):\n",
    "            return parsed.return_values['output']\n",
    "        if parsed.tool in tools:\n",
    "            tool = tools[parsed.tool]\n",
    "            res = tool._run(parsed.tool_input)\n",
    "        else:\n",
    "            tool = CustomInvalidTool()\n",
    "            res = tool._run(parsed.tool_input, tools)\n",
    "        return res\n",
    "    except Exception as e:\n",
    "        return str(e)\n",
    "\n",
    "def check_error(response):\n",
    "    if 'Parameter type error' in response or 'Missing required parameters' in response or 'Could not parse LLM output' in response:\n",
    "        return True\n",
    "    return False\n",
    "\n",
    "def check_error_w_type(response):\n",
    "    if 'Parameter type error' in response:\n",
    "        return ('Parameter type error', True)\n",
    "    elif 'Missing required parameters' in response:\n",
    "        return ('Missing required parameters', True)\n",
    "    elif 'Could not parse LLM output' in response:\n",
    "        return ('Could not parse LLM output', True)\n",
    "    return (None, False)\n",
    "\n",
    "def parse_query(meta_prompt):\n",
    "    return meta_prompt.split('Begin!\\n\\nUSER: ')[1].split('\\nASSISTANT Thought:')[0]\n",
    "\n",
    "max_len = len(generations)\n",
    "errors = []\n",
    "for idx, (item_gt, item_pred) in enumerate(tqdm(zip(data[:max_len], generations))):\n",
    "    query = parse_query(item_gt[0][0])\n",
    "    tools = query_tool_mapping[query]\n",
    "\n",
    "    flag = True\n",
    "    for step_idx in range(len(item_gt[0])):\n",
    "        if item_gt[1][step_idx]:\n",
    "            res = parse_and_call_tool(item_gt[0][step_idx], tools)\n",
    "            if check_error(res):\n",
    "                flag = False\n",
    "\n",
    "    if flag:\n",
    "        for step_idx in range(len(item_gt[0])):\n",
    "            if item_gt[1][step_idx]:\n",
    "                res_pred = parse_and_call_tool(item_pred[0][step_idx], tools)\n",
    "                res_gt = parse_and_call_tool(item_gt[0][step_idx], tools)\n",
    "                error_status_pred = check_error_w_type(res_pred)\n",
    "                error_status_gt = check_error_w_type(res_gt)\n",
    "                if not error_status_gt[1] and error_status_pred[1]:\n",
    "                    errors.append((item_gt, item_pred, error_status_pred[0], (step_idx, res_gt, res_pred)))"
   ]
  },
  {
   "cell_type": "markdown",
   "metadata": {},
   "source": [
    "Подсчитаем число ошибок каждого типа"
   ]
  },
  {
   "cell_type": "code",
   "execution_count": 86,
   "metadata": {},
   "outputs": [
    {
     "data": {
      "text/plain": [
       "Counter({'Could not parse LLM output': 101,\n",
       "         'Parameter type error': 76,\n",
       "         'Missing required parameters': 20})"
      ]
     },
     "execution_count": 86,
     "metadata": {},
     "output_type": "execute_result"
    }
   ],
   "source": [
    "error_types = []\n",
    "for item in errors:\n",
    "    error_types.append(item[-2])\n",
    "Counter(error_types)"
   ]
  },
  {
   "cell_type": "code",
   "execution_count": 20,
   "metadata": {},
   "outputs": [
    {
     "data": {
      "text/plain": [
       "([['A chat between a curious user and an artificial intelligence assistant. The assistant gives helpful, detailed, and polite answers to the user\\'s questions with the help of some tools.\\nYou have access to the following tools:\\n\\ngetDetails: If the user\\'s question lacks the essential information needed to answer the question effectively, or if the question contains vague terms or pronouns without sufficient context, invoke the `getDetails` function to prompt the user for the missing critical details. However, `getDetails` should not be used in cases where the user omits optional parameters, unless these parameters become necessary in the course of the conversation. \\nParameters: {\"Question\": \"The question to prompt user to provide sufficient information.\"}\\nOutput: User\\'s response.\\ngetCompetitions: Retrieve a list of all available competitions and their details.\\nParameters: {}\\nOutput: An array of objects, each representing a competition.\\n - Format: application/json\\n - Structure: Array[Object{id, name, area: Object{id, name, countryCode}, code, plan}]\\ngetMatches: Get the fixtures and results of matches for specific competitions, teams, or dates.\\nParameters: {\"id\": \"Required. integer. The unique identifier of the competition.\", \"dateFrom\": \"string. The start date of the period for which matches should be returned. Format: \\'YYYY-MM-DD\\'.\", \"dateTo\": \"string. The end date of the period for which matches should be returned. Format: \\'YYYY-MM-DD\\'.\", \"status\": \"string. One of: [SCHEDULED, LIVE, IN_PLAY, PAUSED, FINISHED, POSTPONED, SUSPENDED, CANCELED]. The status of the matches to be returned. Possible values: \\'SCHEDULED\\', \\'LIVE\\', \\'IN_PLAY\\', \\'PAUSED\\', \\'FINISHED\\', \\'POSTPONED\\', \\'SUSPENDED\\', \\'CANCELED\\'.\", \"venue\": \"string. One of: [HOME, AWAY, NEUTRAL]. The venue of the matches to be returned. Possible values: \\'HOME\\', \\'AWAY\\', \\'NEUTRAL\\'.\", \"limit\": \"integer. The maximum number of matches to be returned. Default: 100.\", \"offset\": \"integer. The offset of the matches to be returned. Default: 0.\"}\\nOutput: An array of objects, each representing a match.\\n - Format: application/json\\n - Structure: Array[Object{id, competition: Object{id, name}, season: Object{id, startDate, endDate, currentMatchday}, utcDate, status, matchday, stage, group, homeTeam: Object{id, name}, awayTeam: Object{id, name}, score: Object{winner, fullTime: Object{homeTeam, awayTeam}, halfTime: Object{homeTeam, awayTeam}, extraTime: Object{homeTeam, awayTeam}, penalties: Object{homeTeam, awayTeam}}}]\\ngetTeam: Obtain detailed information on a specific team, including its performance statistics, historical data, and more.\\nParameters: {\"id\": \"Required. integer. The unique identifier of the team.\"}\\nOutput: An object representing the team.\\n - Format: application/json\\n - Structure: Object{id, name, crestUrl, address, phone, website, email, founded, clubColors, venue, squad: Array[Object{id, name, position, dateOfBirth, countryOfBirth, nationality, shirtNumber}], lastUpdated}\\n\\nThe chat follows this format:\\nUSER: the user\\'s question\\nASSISTANT Thought: the assistant\\'s inner thought about what to do next \\nASSISTANT Action: the action to take, must be one of [getDetails, getCompetitions, getMatches, getTeam].\\nASSISTANT Action Input: the input for the action, in JSON format.\\nASSISTANT Observation: the result of the action\\n... (this Thought/Action/Action Input/Observation can repeat N times)\\nASSISTANT Thought: summarize the information gathered\\nASSISTANT Response: the final response to the user\\nUSER: user\\'s next question\\n...\\n\\nBegin!\\n\\nUSER: I want to see all the matches played by Manchester United between 2021-01-01 and 2021-05-31. Can you help me with that?\\nASSISTANT Thought: ',\n",
       "   'I need to use the getMatches tool to get the matches for Manchester United in the given time period.\\nASSISTANT Action: getMatches\\nASSISTANT Action Input: {\"id\": \"66\", \"dateFrom\": \"2021-01-01\", \"dateTo\": \"2021-05-31\", \"status\": \"FINISHED\"}\\nASSISTANT Observation: ',\n",
       "   'Status Code: 200. Response: {\"matches\":[{\"id\":317972,\"competition\":{\"id\":66,\"name\":\"UEFA Champions League\"},\"season\":{\"id\":597,\"startDate\":\"2020-08-08\",\"endDate\":\"2021-05-29\",\"currentMatchday\":6},\"utcDate\":\"2021-05-29T19:00:00Z\",\"status\":\"FINISHED\",\"matchday\":6,\"stage\":\"FINAL\",\"group\":null,\"homeTeam\":{\"id\":64,\"name\":\"Manchester City FC\"},\"awayTeam\":{\"id\":81,\"name\":\"Chelsea FC\"},\"score\":{\"winner\":\"AWAY_TEAM\",\"fullTime\":{\"homeTeam\":0,\"awayTeam\":1},\"halfTime\":{\"homeTeam\":0,\"awayTeam\":1},\"extraTime\":null,\"penalties\":null}},{\"id\":319545,\"competition\":{\"id\":66,\"name\":\"UEFA Champions League\"},\"season\":{\"id\":597,\"startDate\":\"2020-08-08\",\"endDate\":\"2021-05-29\",\"currentMatchday\":6},\"utcDate\":\"2021-05-29T19:00:00Z\",\"status\":\"FINISHED\",\"matchday\":6,\"stage\":\"FINAL\",\"group\":null,\"homeTeam\":{\"id\":81,\"name\":\"Chelsea FC\"},\"awayTeam\":{\"id\":64,\"name\":\"Manchester City FC\"},\"score\":{\"winner\":\"AWAY_TEAM\",\"fullTime\":{\"homeTeam\":0,\"awayTeam\":1},\"halfTime\":{\"homeTeam\":0,\"awayTeam\":1},\"extraTime\":null,\"penalties\":null}}]}\\nASSISTANT Thought: ',\n",
       "   'The getMatches tool returned two matches played by Manchester United between 2021-01-01 and 2021-05-31.\\nASSISTANT Response: Manchester United played two matches between 2021-01-01 and 2021-05-31. The first match was against Manchester City FC on 2021-05-29 and the second match was against Chelsea FC on 2021-05-29. Both matches were won by the away team.'],\n",
       "  [False, True, False, True]],\n",
       " [['A chat between a curious user and an artificial intelligence assistant. The assistant gives helpful, detailed, and polite answers to the user\\'s questions with the help of some tools.\\nYou have access to the following tools:\\n\\ngetDetails: If the user\\'s question lacks the essential information needed to answer the question effectively, or if the question contains vague terms or pronouns without sufficient context, invoke the `getDetails` function to prompt the user for the missing critical details. However, `getDetails` should not be used in cases where the user omits optional parameters, unless these parameters become necessary in the course of the conversation. \\nParameters: {\"Question\": \"The question to prompt user to provide sufficient information.\"}\\nOutput: User\\'s response.\\ngetCompetitions: Retrieve a list of all available competitions and their details.\\nParameters: {}\\nOutput: An array of objects, each representing a competition.\\n - Format: application/json\\n - Structure: Array[Object{id, name, area: Object{id, name, countryCode}, code, plan}]\\ngetMatches: Get the fixtures and results of matches for specific competitions, teams, or dates.\\nParameters: {\"id\": \"Required. integer. The unique identifier of the competition.\", \"dateFrom\": \"string. The start date of the period for which matches should be returned. Format: \\'YYYY-MM-DD\\'.\", \"dateTo\": \"string. The end date of the period for which matches should be returned. Format: \\'YYYY-MM-DD\\'.\", \"status\": \"string. One of: [SCHEDULED, LIVE, IN_PLAY, PAUSED, FINISHED, POSTPONED, SUSPENDED, CANCELED]. The status of the matches to be returned. Possible values: \\'SCHEDULED\\', \\'LIVE\\', \\'IN_PLAY\\', \\'PAUSED\\', \\'FINISHED\\', \\'POSTPONED\\', \\'SUSPENDED\\', \\'CANCELED\\'.\", \"venue\": \"string. One of: [HOME, AWAY, NEUTRAL]. The venue of the matches to be returned. Possible values: \\'HOME\\', \\'AWAY\\', \\'NEUTRAL\\'.\", \"limit\": \"integer. The maximum number of matches to be returned. Default: 100.\", \"offset\": \"integer. The offset of the matches to be returned. Default: 0.\"}\\nOutput: An array of objects, each representing a match.\\n - Format: application/json\\n - Structure: Array[Object{id, competition: Object{id, name}, season: Object{id, startDate, endDate, currentMatchday}, utcDate, status, matchday, stage, group, homeTeam: Object{id, name}, awayTeam: Object{id, name}, score: Object{winner, fullTime: Object{homeTeam, awayTeam}, halfTime: Object{homeTeam, awayTeam}, extraTime: Object{homeTeam, awayTeam}, penalties: Object{homeTeam, awayTeam}}}]\\ngetTeam: Obtain detailed information on a specific team, including its performance statistics, historical data, and more.\\nParameters: {\"id\": \"Required. integer. The unique identifier of the team.\"}\\nOutput: An object representing the team.\\n - Format: application/json\\n - Structure: Object{id, name, crestUrl, address, phone, website, email, founded, clubColors, venue, squad: Array[Object{id, name, position, dateOfBirth, countryOfBirth, nationality, shirtNumber}], lastUpdated}\\n\\nThe chat follows this format:\\nUSER: the user\\'s question\\nASSISTANT Thought: the assistant\\'s inner thought about what to do next \\nASSISTANT Action: the action to take, must be one of [getDetails, getCompetitions, getMatches, getTeam].\\nASSISTANT Action Input: the input for the action, in JSON format.\\nASSISTANT Observation: the result of the action\\n... (this Thought/Action/Action Input/Observation can repeat N times)\\nASSISTANT Thought: summarize the information gathered\\nASSISTANT Response: the final response to the user\\nUSER: user\\'s next question\\n...\\n\\nBegin!\\n\\nUSER: I want to see all the matches played by Manchester United between 2021-01-01 and 2021-05-31. Can you help me with that?\\nASSISTANT Thought: ',\n",
       "   ' I need to use the getMatches tool to get the matches played by Manchester United between the specified dates.\\nASSISTANT Action: getMatches\\nASSISTANT Action Input: {\"id\": \"Manchester United\", \"dateFrom\": \"2021-01-01\", \"dateTo\": \"2021-05-31\", \"status\": \"LIVE\", \"venue\": \"HOME\", \"limit\": 100, \"offset\": 0}',\n",
       "   'Status Code: 200. Response: {\"matches\":[{\"id\":317972,\"competition\":{\"id\":66,\"name\":\"UEFA Champions League\"},\"season\":{\"id\":597,\"startDate\":\"2020-08-08\",\"endDate\":\"2021-05-29\",\"currentMatchday\":6},\"utcDate\":\"2021-05-29T19:00:00Z\",\"status\":\"FINISHED\",\"matchday\":6,\"stage\":\"FINAL\",\"group\":null,\"homeTeam\":{\"id\":64,\"name\":\"Manchester City FC\"},\"awayTeam\":{\"id\":81,\"name\":\"Chelsea FC\"},\"score\":{\"winner\":\"AWAY_TEAM\",\"fullTime\":{\"homeTeam\":0,\"awayTeam\":1},\"halfTime\":{\"homeTeam\":0,\"awayTeam\":1},\"extraTime\":null,\"penalties\":null}},{\"id\":319545,\"competition\":{\"id\":66,\"name\":\"UEFA Champions League\"},\"season\":{\"id\":597,\"startDate\":\"2020-08-08\",\"endDate\":\"2021-05-29\",\"currentMatchday\":6},\"utcDate\":\"2021-05-29T19:00:00Z\",\"status\":\"FINISHED\",\"matchday\":6,\"stage\":\"FINAL\",\"group\":null,\"homeTeam\":{\"id\":81,\"name\":\"Chelsea FC\"},\"awayTeam\":{\"id\":64,\"name\":\"Manchester City FC\"},\"score\":{\"winner\":\"AWAY_TEAM\",\"fullTime\":{\"homeTeam\":0,\"awayTeam\":1},\"halfTime\":{\"homeTeam\":0,\"awayTeam\":1},\"extraTime\":null,\"penalties\":null}}]}\\nASSISTANT Thought: ',\n",
       "   ' The getMatches tool has returned two matches played by Manchester United between 2021-01-01 and 2021-05-31.\\nASSISTANT Response: The getMatches tool has returned two matches played by Manchester United between 2021-01-01 and 2021-05-31. The matches are: \\n\\n1. Manchester United vs Chelsea FC (UEFA Champions League, Matchday 6, Final, Group Stage, AWAY_TEAM 1-0 HOME_TEAM 0)\\n2. Manchester United vs Chelsea FC (UEFA Champions League, Matchday 6, Final, Group Stage, AWAY_TEAM 1-0 HOME_TEAM 0) '],\n",
       "  [False, True, False, True]],\n",
       " (1,\n",
       "  \"Status Code: 502. Response: <html><body><h1>502 Connection refused</h1><p><a href='http://cntlm.sf.net/'>Cntlm</a> proxy failed to complete the request.</p></body></html>. You should choose one of: (1) change the input and retry; (2) return the 'Final Answer' and explain what happened; (You must choose this one when the error occurs more than 3 times.) (3) call another function.\",\n",
       "  'Parameter type error: \"id\", expected integer, but got string. You need to change the input and try again.'))"
      ]
     },
     "execution_count": 20,
     "metadata": {},
     "output_type": "execute_result"
    }
   ],
   "source": [
    "errors[1]"
   ]
  },
  {
   "cell_type": "code",
   "execution_count": 88,
   "metadata": {},
   "outputs": [],
   "source": [
    "correction_prompts = json.load(open('data/correction_thoughts.json', 'r'))\n",
    "\n",
    "def construct_correction_example_w_thought(error):\n",
    "    error_idx = error[-1][0]\n",
    "    gt_chain = error[0][0]\n",
    "    pred_chain = error[1][0]\n",
    "    gt_mask_flags = error[0][1]\n",
    "    error_pred = error[-1][-1]\n",
    "    error_type = error[-2]\n",
    "    correction_prompt = random.choice(correction_prompts[error_type])\n",
    "    print(correction_prompt)\n",
    "    correct_answer = correction_prompt + ' ' + gt_chain[error_idx]\n",
    "    \n",
    "    new_chain = gt_chain[:error_idx] + [pred_chain[error_idx], error_pred, correct_answer] + gt_chain[error_idx+1:]\n",
    "    new_mask_flags = gt_mask_flags[:error_idx] + [False, False] + gt_mask_flags[error_idx:]\n",
    "    return [new_chain, new_mask_flags]"
   ]
  },
  {
   "cell_type": "code",
   "execution_count": 89,
   "metadata": {},
   "outputs": [],
   "source": [
    "correction_examples = []\n",
    "for item in errors:\n",
    "    correction_examples.append(construct_correction_example(item))"
   ]
  },
  {
   "cell_type": "code",
   "execution_count": 90,
   "metadata": {},
   "outputs": [],
   "source": [
    "# json.dump(correction_examples, open('../data/correction_examples_w_internal_thoughts_val_model_trained_on_half_train.json', 'w'))"
   ]
  },
  {
   "cell_type": "code",
   "execution_count": 91,
   "metadata": {},
   "outputs": [
    {
     "name": "stdout",
     "output_type": "stream",
     "text": [
      "The LLM output parsing failed, likely due to errors in the generation. Consider regenerating or altering the input.\n"
     ]
    },
    {
     "data": {
      "text/plain": [
       "[['A chat between a curious user and an artificial intelligence assistant. The assistant gives helpful, detailed, and polite answers to the user\\'s questions with the help of some tools.\\nYou have access to the following tools:\\n\\ngetDetails: If the user\\'s question lacks the essential information needed to answer the question effectively, or if the question contains vague terms or pronouns without sufficient context, invoke the `getDetails` function to prompt the user for the missing critical details. However, `getDetails` should not be used in cases where the user omits optional parameters, unless these parameters become necessary in the course of the conversation. \\nParameters: {\"Question\": \"The question to prompt user to provide sufficient information.\"}\\nOutput: User\\'s response.\\nsearch: Search for internet assets based on various parameters\\nParameters: {\"query\": \"Required. string. The search query. Can be a domain name, IP address, SSL certificate information, or other parameters.\", \"page\": \"integer. The page number of the search results. Default is 1.\", \"size\": \"integer. The number of search results per page. Default is 20.\"}\\nOutput: List of internet assets that match the search query.\\n - Format: application/json\\n - Structure: Array[#InternetAsset]\\ngetDomain: Retrieve information about a specific domain\\nParameters: {\"domain\": \"Required. string. The domain name to retrieve information for.\"}\\nOutput: Information about the specified domain.\\n - Format: application/json\\n - Structure: #Domain\\ngetIP: Retrieve information about a specific IP address\\nParameters: {\"ip\": \"Required. string. The IP address to retrieve information for.\"}\\nOutput: Information about the specified IP address.\\n - Format: application/json\\n - Structure: #IP\\ngetSubdomains: Retrieve a list of subdomains for a specific domain\\nParameters: {\"domain\": \"Required. string. The domain name to retrieve subdomains for.\"}\\nOutput: List of subdomains for the specified domain.\\n - Format: application/json\\n - Structure: Array[string]\\ngetSSLCertificates: Retrieve a list of SSL certificates for a specific domain\\nParameters: {\"domain\": \"Required. string. The domain name to retrieve SSL certificates for.\"}\\nOutput: List of SSL certificates for the specified domain.\\n - Format: application/json\\n - Structure: Array[#SSLCertificate]\\ngetPorts: Retrieve a list of open ports for a specific IP address\\nParameters: {\"ip\": \"Required. string. The IP address to retrieve open ports for.\"}\\nOutput: List of open ports for the specified IP address.\\n - Format: application/json\\n - Structure: Array[integer]\\ngetTechnologies: Retrieve a list of technologies used by a specific domain\\nParameters: {\"domain\": \"Required. string. The domain name to retrieve technologies for.\"}\\nOutput: List of technologies used by the specified domain.\\n - Format: application/json\\n - Structure: Array[string]\\ngetOrganization: Retrieve information about the organization that owns a specific domain\\nParameters: {\"domain\": \"Required. string. The domain name to retrieve organization information for.\"}\\nOutput: Information about the organization that owns the specified domain.\\n - Format: application/json\\n - Structure: #Organization\\ngetASN: Retrieve information about the Autonomous System Number (ASN) that a specific IP address belongs to\\nParameters: {\"ip\": \"Required. string. The IP address to retrieve ASN information for.\"}\\nOutput: Information about the ASN that the specified IP address belongs to.\\n - Format: application/json\\n - Structure: #ASNThe detailed output format for the tools is outlined below:\\n#InternetAsset: Object{domain, ip, ssl_certificate: #SSLCertificate}\\n#Domain: Object{name, dns_records: Array[Object{type, value}], ssl_certificates: Array[#SSLCertificate], technologies: Array[string], organization: Object{name, address, country}}\\n#IP: Object{address, open_ports: Array[integer], ssl_certificates: Array[#SSLCertificate], asn: Object{number, name, country}}\\n#SSLCertificate: Object{issuer, subject, valid_from, valid_to}\\n#Organization: Object{name, address, country}\\n#ASN: Object{number, name, country}\\n\\nThe chat follows this format:\\nUSER: the user\\'s question\\nASSISTANT Thought: the assistant\\'s inner thought about what to do next \\nASSISTANT Action: the action to take, must be one of [getDetails, search, getDomain, getIP, getSubdomains, getSSLCertificates, getPorts, getTechnologies, getOrganization, getASN].\\nASSISTANT Action Input: the input for the action, in JSON format.\\nASSISTANT Observation: the result of the action\\n... (this Thought/Action/Action Input/Observation can repeat N times)\\nASSISTANT Thought: summarize the information gathered\\nASSISTANT Response: the final response to the user\\nUSER: user\\'s next question\\n...\\n\\nBegin!\\n\\nUSER: Retrieve the SSL certificate information for the domain name yahoo.com using the API.\\nASSISTANT Thought: ',\n",
       "  ' I need to use the getSSISTANTANT Action to retrieve the SSL certificate information for the domain name yahoo.com.\\nASSISTANT Action: getSSISTANTANT Action Input: {\"domain\": \"yahoo.com\"}',\n",
       "  'Could not parse LLM output: ` I need to use the getSSISTANTANT Action to retrieve the SSL certificate information for the domain name yahoo.com.\\nASSISTANT Action: getSSISTANTANT Action Input: {\"domain\": \"yahoo.com\"}`',\n",
       "  'The LLM output parsing failed, likely due to errors in the generation. Consider regenerating or altering the input. I need to use the getSSLCertificates tool to retrieve the SSL certificate information for the domain name yahoo.com.\\nASSISTANT Action: getSSLCertificates\\nASSISTANT Action Input: {\"domain\": \"yahoo.com\"}\\nASSISTANT Observation: ',\n",
       "  'Status Code: 200. Response: {\"ssl_certificates\":[{\"issuer\":\"DigiCert Inc\",\"subject\":\"*.yahoo.com\",\"valid_from\":\"2022-05-03T00:00:00Z\",\"valid_to\":\"2023-06-07T12:00:00Z\"},{\"issuer\":\"Symantec Corporation\",\"subject\":\"*.yahoo.com\",\"valid_from\":\"2022-05-03T00:00:00Z\",\"valid_to\":\"2023-06-07T12:00:00Z\"},{\"issuer\":\"Yahoo Japan Corporation\",\"subject\":\"*.yahoo.com\",\"valid_from\":\"2022-05-03T00:00:00Z\",\"valid_to\":\"2023-06-07T12:00:00Z\"}]}\\nASSISTANT Thought: ',\n",
       "  'The API returned three SSL certificates for the domain name yahoo.com.\\nASSISTANT Response: The API returned three SSL certificates for the domain name yahoo.com. The certificates were issued by DigiCert Inc, Symantec Corporation, and Yahoo Japan Corporation. The certificates are valid from 2022-05-03 to 2023-06-07.'],\n",
       " [False, False, False, True, False, True]]"
      ]
     },
     "execution_count": 91,
     "metadata": {},
     "output_type": "execute_result"
    }
   ],
   "source": [
    "construct_correction_example_w_thought(errors[0])"
   ]
  },
  {
   "cell_type": "code",
   "execution_count": null,
   "metadata": {},
   "outputs": [],
   "source": []
  },
  {
   "cell_type": "code",
   "execution_count": null,
   "metadata": {},
   "outputs": [],
   "source": [
    "def call_tool(generation, name_to_tool_map):\n",
    "    agent_action = parser.parse(generation)\n",
    "    if isinstance(agent_action, AgentFinish):\n",
    "        return agent_action\n",
    "    if agent_action.tool in name_to_tool_map:\n",
    "        tool = name_to_tool_map[agent_action.tool]\n",
    "        return_direct = tool.return_direct\n",
    "        observation = tool.run(\n",
    "            agent_action.tool_input,\n",
    "            verbose=self.verbose,\n",
    "            color=color,\n",
    "            **tool_run_kwargs,\n",
    "        )\n",
    "\n",
    "\n",
    "\n",
    "\n",
    "        result = []\n",
    "        for agent_action in actions:\n",
    "            self.callback_manager.on_agent_action(\n",
    "                agent_action, verbose=self.verbose, color=\"green\"\n",
    "            )\n",
    "            # Otherwise we lookup the tool\n",
    "            if agent_action.tool in name_to_tool_map:\n",
    "                tool = name_to_tool_map[agent_action.tool]\n",
    "                return_direct = tool.return_direct\n",
    "                color = color_mapping[agent_action.tool]\n",
    "                tool_run_kwargs = self.agent.tool_run_logging_kwargs()\n",
    "                # =============================== modify ===============================\n",
    "                # give GetDetailsTool more kwargs\n",
    "                tool_run_kwargs[\"inputs\"] = inputs\n",
    "                # =============================== modify ===============================\n",
    "                if return_direct:\n",
    "                    tool_run_kwargs[\"llm_prefix\"] = \"\"\n",
    "                # We then call the tool on the tool input to get an observation\n",
    "                observation = tool.run(\n",
    "                    agent_action.tool_input,\n",
    "                    verbose=self.verbose,\n",
    "                    color=color,\n",
    "                    **tool_run_kwargs,\n",
    "                )\n",
    "                # for testing\n",
    "                # observation = '{\"status code\": 200}'\n",
    "            else:\n",
    "                tool_run_kwargs = self.agent.tool_run_logging_kwargs()\n",
    "                observation = CustomInvalidTool().run(\n",
    "                    agent_action.tool,\n",
    "                    all_tools = list(name_to_tool_map.keys()),\n",
    "                    verbose=self.verbose,\n",
    "                    color=None,\n",
    "                    **tool_run_kwargs,\n",
    "                )\n",
    "            result.append((agent_action, observation))\n",
    "            return result"
   ]
  },
  {
   "cell_type": "code",
   "execution_count": 21,
   "metadata": {},
   "outputs": [],
   "source": [
    "message = \"'Action Input' cannot be a list. Only call one function per action.\"\n",
    "message = \"Status Code: 400. Response: {\\\"message\\\": \\\"\" + message + \"\\\"\"\n",
    "message += \". You should choose one of: (1) change the input and retry; (2) return the 'Final Answer' and explain what happened; (You must choose this one when the error occurs more than 3 times.) (3) call another function.\""
   ]
  },
  {
   "cell_type": "code",
   "execution_count": 22,
   "metadata": {},
   "outputs": [
    {
     "data": {
      "text/plain": [
       "'Status Code: 400. Response: {\"message\": \"\\'Action Input\\' cannot be a list. Only call one function per action.\". You should choose one of: (1) change the input and retry; (2) return the \\'Final Answer\\' and explain what happened; (You must choose this one when the error occurs more than 3 times.) (3) call another function.'"
      ]
     },
     "execution_count": 22,
     "metadata": {},
     "output_type": "execute_result"
    }
   ],
   "source": [
    "message"
   ]
  },
  {
   "cell_type": "markdown",
   "metadata": {},
   "source": []
  }
 ],
 "metadata": {
  "kernelspec": {
   "display_name": "Python 3 (ipykernel)",
   "language": "python",
   "name": "python3"
  }
 },
 "nbformat": 4,
 "nbformat_minor": 2
}
