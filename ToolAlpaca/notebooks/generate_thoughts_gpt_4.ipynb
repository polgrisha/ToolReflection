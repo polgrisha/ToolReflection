{
 "cells": [
  {
   "cell_type": "code",
   "execution_count": null,
   "metadata": {},
   "outputs": [],
   "source": [
    "import openai\n",
    "import json\n",
    "import re\n",
    "openai.api_key_path = '<openai api key path>'\n",
    "\n",
    "def make_openai_request(prompt: str):\n",
    "    response = openai.ChatCompletion.create(\n",
    "        model=\"gpt-4-0125-preview\",\n",
    "        messages=[\n",
    "                {\"role\": \"user\", \"content\": prompt},\n",
    "            ],\n",
    "        stop=None,\n",
    "        max_tokens=1000\n",
    "        )\n",
    "    return response"
   ]
  },
  {
   "cell_type": "code",
   "execution_count": 18,
   "metadata": {},
   "outputs": [],
   "source": [
    "prompt = '''\n",
    "Here are error thoughts for different types of errors: Parameter type error, Missing required parameters error, Could not parse LLM output error\n",
    "Parameter type error:\n",
    "    API output indicated that my API call contains parameters of incorrect types. I need to change input parameters or call another tool.\n",
    "Missing required parameters error:\n",
    "    The API output indicated that there no some required paramters in my API call. I need to check OpenAPI spec or call another API.\n",
    "Could not parse LLM output error:\n",
    "    There is a hallucination in my generation. I need to regenerate output or call another API.\n",
    "\n",
    "Please generate 9 versions of each thought. Please put them in the python-style list for each error type.\n",
    "'''"
   ]
  },
  {
   "cell_type": "code",
   "execution_count": 19,
   "metadata": {},
   "outputs": [],
   "source": [
    "res = make_openai_request(prompt)"
   ]
  },
  {
   "cell_type": "code",
   "execution_count": 20,
   "metadata": {},
   "outputs": [
    {
     "data": {
      "text/plain": [
       "<OpenAIObject chat.completion id=chatcmpl-8uKAz1oZ18m4zVVBP6AS1bgTzn5Uq at 0x7f4b2919f920> JSON: {\n",
       "  \"choices\": [\n",
       "    {\n",
       "      \"finish_reason\": \"stop\",\n",
       "      \"index\": 0,\n",
       "      \"logprobs\": null,\n",
       "      \"message\": {\n",
       "        \"content\": \"Certainly! Here are nine versions of thoughts for each error type, formatted as Python-style lists.\\n\\n**Parameter Type Error:**\\n\\n```python\\nparameter_type_error_thoughts = [\\n    \\\"The API signaled a mismatch in parameter types. I should verify and adjust the data types of the inputs.\\\",\\n    \\\"Received a type error for the parameters passed. I'll need to review the expected data types and adapt accordingly.\\\",\\n    \\\"Parameter type mismatch detected by the API. This suggests I should re-evaluate the types of the input parameters.\\\",\\n    \\\"The system flagged my inputs as being of the wrong type. Time to cross-check and correct those parameter types.\\\",\\n    \\\"Encountered an error indicating incorrect parameter types. I must align my inputs with the expected types.\\\",\\n    \\\"API feedback points to a parameter type issue. It's necessary to adjust the input types to proceed.\\\",\\n    \\\"Detected inconsistencies in parameter types as per API response. I need to fine-tune the data types of my inputs.\\\",\\n    \\\"Parameter type discrepancy has been identified. I must ensure the data types of parameters match the API specifications.\\\",\\n    \\\"The API has rejected my parameters due to type errors. I'll reassess and modify the input types accordingly.\\\"\\n]\\n```\\n\\n**Missing Required Parameters Error:**\\n\\n```python\\nmissing_required_parameters_error_thoughts = [\\n    \\\"The API indicates missing required parameters. Should review the API documentation to identify what's lacking.\\\",\\n    \\\"I've omitted some necessary parameters in my API call. Need to consult the API spec to find the missing pieces.\\\",\\n    \\\"Required parameters are absent from my API request. I'll need to pinpoint and include the missing parameters.\\\",\\n    \\\"The API call failed due to absent required parameters. Time to go through the API spec and remedy the oversight.\\\",\\n    \\\"Missing some crucial parameters in my API request. It's essential to identify and supply these missing parameters.\\\",\\n    \\\"The API response shows that my request lacks required parameters. Must review and update the request accordingly.\\\",\\n    \\\"Key parameters are missing from my API call. I should check the API documentation for required parameter details.\\\",\\n    \\\"My API request was incomplete, missing some parameters. I'll reassess the requirements and fill in the gaps.\\\",\\n    \\\"The API indicates my request left out required parameters. I must identify what's missing and amend my request.\\\"\\n]\\n```\\n\\n**Could Not Parse LLM Output Error:**\\n\\n```python\\ncould_not_parse_llm_output_error_thoughts = [\\n    \\\"The LLM's output contained unexpected elements. I should attempt to regenerate or refine my query.\\\",\\n    \\\"Failed to parse the LLM output due to irregularities. It might help to rerun the operation or refine the input.\\\",\\n    \\\"Encountered difficulties parsing the LLM output, possibly due to inconsistencies. I'll try regenerating the output.\\\",\\n    \\\"The LLM output didn't parse as expected. This suggests a need for regeneration or adjustment in the query.\\\",\\n    \\\"Parsing issues with the LLM output hint at anomalies. A regeneration attempt or query refinement could resolve it.\\\",\\n    \\\"Couldn't interpret the LLM's output correctly. This may require another generation attempt or a query adjustment.\\\",\\n    \\\"The LLM output parsing failed, likely due to errors in the generation. Consider regenerating or altering the input.\\\",\\n    \\\"Parsing the LLM output proved difficult, indicating potential errors. I'll attempt a rerun or modify my approach.\\\",\\n    \\\"Trouble parsing the LLM output suggests it didn't generate as expected. I may need to regenerate or tweak my query.\\\"\\n]\\n```\",\n",
       "        \"role\": \"assistant\"\n",
       "      }\n",
       "    }\n",
       "  ],\n",
       "  \"created\": 1708434617,\n",
       "  \"id\": \"chatcmpl-8uKAz1oZ18m4zVVBP6AS1bgTzn5Uq\",\n",
       "  \"model\": \"gpt-4-0125-preview\",\n",
       "  \"object\": \"chat.completion\",\n",
       "  \"system_fingerprint\": \"fp_d0c0cfacb3\",\n",
       "  \"usage\": {\n",
       "    \"completion_tokens\": 722,\n",
       "    \"prompt_tokens\": 148,\n",
       "    \"total_tokens\": 870\n",
       "  }\n",
       "}"
      ]
     },
     "execution_count": 20,
     "metadata": {},
     "output_type": "execute_result"
    }
   ],
   "source": [
    "res"
   ]
  },
  {
   "cell_type": "code",
   "execution_count": 21,
   "metadata": {},
   "outputs": [
    {
     "name": "stdout",
     "output_type": "stream",
     "text": [
      "Certainly! Here are nine versions of thoughts for each error type, formatted as Python-style lists.\n",
      "\n",
      "**Parameter Type Error:**\n",
      "\n",
      "```python\n",
      "parameter_type_error_thoughts = [\n",
      "    \"The API signaled a mismatch in parameter types. I should verify and adjust the data types of the inputs.\",\n",
      "    \"Received a type error for the parameters passed. I'll need to review the expected data types and adapt accordingly.\",\n",
      "    \"Parameter type mismatch detected by the API. This suggests I should re-evaluate the types of the input parameters.\",\n",
      "    \"The system flagged my inputs as being of the wrong type. Time to cross-check and correct those parameter types.\",\n",
      "    \"Encountered an error indicating incorrect parameter types. I must align my inputs with the expected types.\",\n",
      "    \"API feedback points to a parameter type issue. It's necessary to adjust the input types to proceed.\",\n",
      "    \"Detected inconsistencies in parameter types as per API response. I need to fine-tune the data types of my inputs.\",\n",
      "    \"Parameter type discrepancy has been identified. I must ensure the data types of parameters match the API specifications.\",\n",
      "    \"The API has rejected my parameters due to type errors. I'll reassess and modify the input types accordingly.\"\n",
      "]\n",
      "```\n",
      "\n",
      "**Missing Required Parameters Error:**\n",
      "\n",
      "```python\n",
      "missing_required_parameters_error_thoughts = [\n",
      "    \"The API indicates missing required parameters. Should review the API documentation to identify what's lacking.\",\n",
      "    \"I've omitted some necessary parameters in my API call. Need to consult the API spec to find the missing pieces.\",\n",
      "    \"Required parameters are absent from my API request. I'll need to pinpoint and include the missing parameters.\",\n",
      "    \"The API call failed due to absent required parameters. Time to go through the API spec and remedy the oversight.\",\n",
      "    \"Missing some crucial parameters in my API request. It's essential to identify and supply these missing parameters.\",\n",
      "    \"The API response shows that my request lacks required parameters. Must review and update the request accordingly.\",\n",
      "    \"Key parameters are missing from my API call. I should check the API documentation for required parameter details.\",\n",
      "    \"My API request was incomplete, missing some parameters. I'll reassess the requirements and fill in the gaps.\",\n",
      "    \"The API indicates my request left out required parameters. I must identify what's missing and amend my request.\"\n",
      "]\n",
      "```\n",
      "\n",
      "**Could Not Parse LLM Output Error:**\n",
      "\n",
      "```python\n",
      "could_not_parse_llm_output_error_thoughts = [\n",
      "    \"The LLM's output contained unexpected elements. I should attempt to regenerate or refine my query.\",\n",
      "    \"Failed to parse the LLM output due to irregularities. It might help to rerun the operation or refine the input.\",\n",
      "    \"Encountered difficulties parsing the LLM output, possibly due to inconsistencies. I'll try regenerating the output.\",\n",
      "    \"The LLM output didn't parse as expected. This suggests a need for regeneration or adjustment in the query.\",\n",
      "    \"Parsing issues with the LLM output hint at anomalies. A regeneration attempt or query refinement could resolve it.\",\n",
      "    \"Couldn't interpret the LLM's output correctly. This may require another generation attempt or a query adjustment.\",\n",
      "    \"The LLM output parsing failed, likely due to errors in the generation. Consider regenerating or altering the input.\",\n",
      "    \"Parsing the LLM output proved difficult, indicating potential errors. I'll attempt a rerun or modify my approach.\",\n",
      "    \"Trouble parsing the LLM output suggests it didn't generate as expected. I may need to regenerate or tweak my query.\"\n",
      "]\n",
      "```\n"
     ]
    }
   ],
   "source": [
    "print(res['choices'][0]['message']['content'])"
   ]
  },
  {
   "cell_type": "code",
   "execution_count": 23,
   "metadata": {},
   "outputs": [],
   "source": [
    "correction_thoughts = {\n",
    "    \"Parameter type error\": [\n",
    "        \"The API signaled a mismatch in parameter types. I should verify and adjust the data types of the inputs.\",\n",
    "        \"Received a type error for the parameters passed. I'll need to review the expected data types and adapt accordingly.\",\n",
    "        \"Parameter type mismatch detected by the API. This suggests I should re-evaluate the types of the input parameters.\",\n",
    "        \"The system flagged my inputs as being of the wrong type. Time to cross-check and correct those parameter types.\",\n",
    "        \"Encountered an error indicating incorrect parameter types. I must align my inputs with the expected types.\",\n",
    "        \"API feedback points to a parameter type issue. It's necessary to adjust the input types to proceed.\",\n",
    "        \"Detected inconsistencies in parameter types as per API response. I need to fine-tune the data types of my inputs.\",\n",
    "        \"Parameter type discrepancy has been identified. I must ensure the data types of parameters match the API specifications.\",\n",
    "        \"The API has rejected my parameters due to type errors. I'll reassess and modify the input types accordingly.\"\n",
    "        ],\n",
    "    \"Missing required parameters\": [\n",
    "        \"The API indicates missing required parameters. Should review the API documentation to identify what's lacking.\",\n",
    "        \"I've omitted some necessary parameters in my API call. Need to consult the API spec to find the missing pieces.\",\n",
    "        \"Required parameters are absent from my API request. I'll need to pinpoint and include the missing parameters.\",\n",
    "        \"The API call failed due to absent required parameters. Time to go through the API spec and remedy the oversight.\",\n",
    "        \"Missing some crucial parameters in my API request. It's essential to identify and supply these missing parameters.\",\n",
    "        \"The API response shows that my request lacks required parameters. Must review and update the request accordingly.\",\n",
    "        \"Key parameters are missing from my API call. I should check the API documentation for required parameter details.\",\n",
    "        \"My API request was incomplete, missing some parameters. I'll reassess the requirements and fill in the gaps.\",\n",
    "        \"The API indicates my request left out required parameters. I must identify what's missing and amend my request.\"\n",
    "        ],\n",
    "    \"Could not parse LLM output\": [\n",
    "        \"The LLM's output contained unexpected elements. I should attempt to regenerate or refine my query.\",\n",
    "        \"Failed to parse the LLM output due to irregularities. It might help to rerun the operation or refine the input.\",\n",
    "        \"Encountered difficulties parsing the LLM output, possibly due to inconsistencies. I'll try regenerating the output.\",\n",
    "        \"The LLM output didn't parse as expected. This suggests a need for regeneration or adjustment in the query.\",\n",
    "        \"Parsing issues with the LLM output hint at anomalies. A regeneration attempt or query refinement could resolve it.\",\n",
    "        \"Couldn't interpret the LLM's output correctly. This may require another generation attempt or a query adjustment.\",\n",
    "        \"The LLM output parsing failed, likely due to errors in the generation. Consider regenerating or altering the input.\",\n",
    "        \"Parsing the LLM output proved difficult, indicating potential errors. I'll attempt a rerun or modify my approach.\",\n",
    "        \"Trouble parsing the LLM output suggests it didn't generate as expected. I may need to regenerate or tweak my query.\"\n",
    "    ]\n",
    "}"
   ]
  },
  {
   "cell_type": "code",
   "execution_count": 24,
   "metadata": {},
   "outputs": [],
   "source": [
    "json.dump(correction_thoughts, open('../data/correction_thoughts.json', 'w'))"
   ]
  },
  {
   "cell_type": "code",
   "execution_count": null,
   "metadata": {},
   "outputs": [],
   "source": []
  }
 ],
 "metadata": {
  "kernelspec": {
   "display_name": "Python 3 (ipykernel)",
   "language": "python",
   "name": "python3"
  },
  "language_info": {
   "codemirror_mode": {
    "name": "ipython",
    "version": 3
   },
   "file_extension": ".py",
   "mimetype": "text/x-python",
   "name": "python",
   "nbconvert_exporter": "python",
   "pygments_lexer": "ipython3",
   "version": "3.10.11"
  }
 },
 "nbformat": 4,
 "nbformat_minor": 2
}
