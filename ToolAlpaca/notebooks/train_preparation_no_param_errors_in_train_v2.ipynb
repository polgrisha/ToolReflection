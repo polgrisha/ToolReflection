{
 "cells": [
  {
   "cell_type": "code",
   "execution_count": 7,
   "metadata": {},
   "outputs": [],
   "source": [
    "import json\n",
    "import random\n",
    "from random import shuffle\n",
    "random.seed(0)"
   ]
  },
  {
   "cell_type": "code",
   "execution_count": 8,
   "metadata": {},
   "outputs": [],
   "source": [
    "train_train_data = json.load(open('data/train_data_train_part_no_invalid_params_errors', 'r'))\n",
    "correction_examples_train_train = json.load(open('data/correction_examples_train_model_trained_on_half_train_v2.json', 'r'))\n",
    "correction_examples_train_val = json.load(open('data/correction_examples_val_model_trained_on_half_train_v2.json', 'r'))\n",
    "random.shuffle(train_train_data)"
   ]
  },
  {
   "cell_type": "code",
   "execution_count": 9,
   "metadata": {},
   "outputs": [],
   "source": [
    "train_new_corrections_val = train_train_data + correction_examples_train_val\n",
    "random.shuffle(train_new_corrections_val)\n",
    "train_new_corrections_train_val = train_train_data + correction_examples_train_val + correction_examples_train_train\n",
    "random.shuffle(train_new_corrections_train_val)\n",
    "train_new_part_corrections_val = train_train_data[:500] + correction_examples_train_val\n",
    "random.shuffle(train_new_part_corrections_val)\n",
    "train_new_part_corrections_train_val = train_train_data[:500] + correction_examples_train_val + correction_examples_train_train\n",
    "random.shuffle(train_new_part_corrections_train_val)"
   ]
  },
  {
   "cell_type": "code",
   "execution_count": 10,
   "metadata": {},
   "outputs": [
    {
     "name": "stdout",
     "output_type": "stream",
     "text": [
      "2374\n",
      "2605\n",
      "697\n",
      "928\n"
     ]
    }
   ],
   "source": [
    "print(len(train_new_corrections_val))\n",
    "print(len(train_new_corrections_train_val))\n",
    "print(len(train_new_part_corrections_val))\n",
    "print(len(train_new_part_corrections_train_val))"
   ]
  },
  {
   "cell_type": "code",
   "execution_count": 12,
   "metadata": {},
   "outputs": [],
   "source": [
    "json.dump(train_new_corrections_val, open('data/train_new_corrections_val_v3', 'w'))\n",
    "json.dump(train_new_corrections_train_val, open('data/train_new_corrections_train_val_v3', 'w'))\n",
    "json.dump(train_new_part_corrections_val, open('data/train_new_part_corrections_val_v3', 'w'))\n",
    "json.dump(train_new_part_corrections_train_val, open('data/train_new_part_corrections_train_val_v3', 'w'))"
   ]
  },
  {
   "cell_type": "code",
   "execution_count": null,
   "metadata": {},
   "outputs": [],
   "source": []
  }
 ],
 "metadata": {
  "kernelspec": {
   "display_name": "Python 3 (ipykernel)",
   "language": "python",
   "name": "python3"
  }
 },
 "nbformat": 4,
 "nbformat_minor": 2
}
