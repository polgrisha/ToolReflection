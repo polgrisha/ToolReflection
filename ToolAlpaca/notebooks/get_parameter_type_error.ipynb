{
 "cells": [
  {
   "cell_type": "code",
   "execution_count": 29,
   "metadata": {},
   "outputs": [],
   "source": [
    "import json"
   ]
  },
  {
   "cell_type": "markdown",
   "metadata": {},
   "source": [
    "From simulated"
   ]
  },
  {
   "cell_type": "code",
   "execution_count": null,
   "metadata": {},
   "outputs": [
    {
     "name": "stdout",
     "output_type": "stream",
     "text": [
      "10\n"
     ]
    }
   ],
   "source": [
    "generations_correction = json.load(open('eval_generations/eval_7b_retrain_on_train_part_500_corrections_train_val_simulated/api_data_0_10.json', 'r'))\n",
    "error_instances_correction = []\n",
    "for item in generations_correction:\n",
    "    instances = item['Instances']\n",
    "    for instance in instances:\n",
    "        if 'intermediate_steps' in instance:\n",
    "            for step in instance['intermediate_steps']:\n",
    "                if \"Parameter type\" in step[-1]:\n",
    "                    error_instances_correction.append(instance)\n",
    "print(len(error_instances_correction))\n",
    "json.dump(error_instances_correction, open('../stuff/error_instances_correction_simulated.json', 'w'), ensure_ascii=False, indent=4)"
   ]
  },
  {
   "cell_type": "code",
   "execution_count": null,
   "metadata": {},
   "outputs": [
    {
     "name": "stdout",
     "output_type": "stream",
     "text": [
      "15\n"
     ]
    }
   ],
   "source": [
    "generations_original = json.load(open('eval_generations/eval_7b_full_train_part_of_train_simulated_correct_eval/api_data_0_10.json', 'r'))\n",
    "error_instances = []\n",
    "for item in generations_original:\n",
    "    instances = item['Instances']\n",
    "    for instance in instances:\n",
    "        if 'intermediate_steps' in instance:\n",
    "            for step in instance['intermediate_steps']:\n",
    "                if \"Parameter type\" in step[-1]:\n",
    "                    error_instances.append(instance)\n",
    "print(len(error_instances))\n",
    "json.dump(error_instances, open('../stuff/error_instances_no_correction_simulated.json', 'w'), ensure_ascii=False, indent=4)"
   ]
  },
  {
   "cell_type": "markdown",
   "metadata": {},
   "source": [
    "From real"
   ]
  },
  {
   "cell_type": "code",
   "execution_count": null,
   "metadata": {},
   "outputs": [
    {
     "name": "stdout",
     "output_type": "stream",
     "text": [
      "10\n"
     ]
    }
   ],
   "source": [
    "generations_correction = json.load(open('eval_generations/eval_7b_retrain_on_train_part_500_corrections_train_val_real/api_data_0_11.json', 'r'))\n",
    "error_instances_correction = []\n",
    "for item in generations_correction:\n",
    "    instances = item['Instances']\n",
    "    for instance in instances:\n",
    "        if 'intermediate_steps' in instance:\n",
    "            for step in instance['intermediate_steps']:\n",
    "                if \"Parameter type\" in step[-1]:\n",
    "                    error_instances_correction.append(instance)\n",
    "print(len(error_instances_correction))\n",
    "json.dump(error_instances_correction, open('../stuff/error_instances_correction_real.json', 'w'), ensure_ascii=False, indent=4)"
   ]
  },
  {
   "cell_type": "code",
   "execution_count": null,
   "metadata": {},
   "outputs": [
    {
     "name": "stdout",
     "output_type": "stream",
     "text": [
      "10\n"
     ]
    }
   ],
   "source": [
    "generations_original = json.load(open('eval_generations/eval_7b_train_part_of_train_real_correct_eval/api_data_0_11.json', 'r'))\n",
    "error_instances = []\n",
    "for item in generations_original:\n",
    "    instances = item['Instances']\n",
    "    for instance in instances:\n",
    "        if 'intermediate_steps' in instance:\n",
    "            for step in instance['intermediate_steps']:\n",
    "                if \"Parameter type\" in step[-1]:\n",
    "                    error_instances.append(instance)\n",
    "print(len(error_instances))\n",
    "json.dump(error_instances, open('../stuff/error_instances_no_correction_real.json', 'w'), ensure_ascii=False, indent=4)"
   ]
  },
  {
   "cell_type": "code",
   "execution_count": null,
   "metadata": {},
   "outputs": [],
   "source": []
  }
 ],
 "metadata": {
  "kernelspec": {
   "display_name": "Python 3 (ipykernel)",
   "language": "python",
   "name": "python3"
  },
  "language_info": {
   "codemirror_mode": {
    "name": "ipython",
    "version": 3
   },
   "file_extension": ".py",
   "mimetype": "text/x-python",
   "name": "python",
   "nbconvert_exporter": "python",
   "pygments_lexer": "ipython3",
   "version": "3.10.11"
  }
 },
 "nbformat": 4,
 "nbformat_minor": 2
}
