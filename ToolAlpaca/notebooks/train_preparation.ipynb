{
 "cells": [
  {
   "cell_type": "code",
   "execution_count": 19,
   "metadata": {},
   "outputs": [],
   "source": [
    "import json\n",
    "import random\n",
    "from random import shuffle\n",
    "random.seed(0)"
   ]
  },
  {
   "cell_type": "code",
   "execution_count": null,
   "metadata": {},
   "outputs": [],
   "source": [
    "train_train_data = json.load(open('data/train_data_train_part', 'r'))\n",
    "train_train_data_no_invalid_params_errors = json.load(open('data/train_data_train_part_no_invalid_params_errors', 'r'))\n",
    "correction_examples_train_train = json.load(open('data/correction_examples_train_model_trained_on_half_train.json', 'r'))\n",
    "correction_examples_train_val = json.load(open('data/correction_examples_val_model_trained_on_half_train.json', 'r'))\n",
    "correction_examples_train_val_internal_thoughts = json.load(open('../data/correction_examples_w_internal_thoughts_val_model_trained_on_half_train.json', 'r'))\n",
    "random.shuffle(train_train_data_no_invalid_params_errors)\n",
    "random.shuffle(train_train_data)"
   ]
  },
  {
   "cell_type": "code",
   "execution_count": 27,
   "metadata": {},
   "outputs": [],
   "source": [
    "train_new_corrections_val = train_train_data + correction_examples_train_val\n",
    "random.shuffle(train_new_corrections_val)\n",
    "train_new_corrections_train_val = train_train_data + correction_examples_train_val + correction_examples_train_train\n",
    "random.shuffle(train_new_corrections_train_val)\n",
    "train_new_part_corrections_val = train_train_data[:500] + correction_examples_train_val\n",
    "random.shuffle(train_new_part_corrections_val)\n",
    "train_new_part_corrections_train_val = train_train_data[:500] + correction_examples_train_val + correction_examples_train_train\n",
    "random.shuffle(train_new_part_corrections_train_val)\n",
    "train_new_corrections_val_no_invalid_params_errors = train_train_data_no_invalid_params_errors + correction_examples_train_val\n",
    "random.shuffle(train_new_corrections_val_no_invalid_params_errors)\n",
    "train_new_part_corrections_val_no_invalid_params_errors = train_train_data_no_invalid_params_errors[:500] + correction_examples_train_val\n",
    "random.shuffle(train_new_part_corrections_val_no_invalid_params_errors)\n",
    "train_new_part_corrections_val_no_invalid_params_errors_internal_thoughts = train_train_data_no_invalid_params_errors[:500] + correction_examples_train_val_internal_thoughts\n",
    "random.shuffle(train_new_part_corrections_val_no_invalid_params_errors_internal_thoughts)"
   ]
  },
  {
   "cell_type": "code",
   "execution_count": 29,
   "metadata": {},
   "outputs": [
    {
     "name": "stdout",
     "output_type": "stream",
     "text": [
      "2458\n",
      "2689\n",
      "697\n",
      "928\n",
      "2374\n",
      "697\n",
      "697\n"
     ]
    }
   ],
   "source": [
    "print(len(train_new_corrections_val))\n",
    "print(len(train_new_corrections_train_val))\n",
    "print(len(train_new_part_corrections_val))\n",
    "print(len(train_new_part_corrections_train_val))\n",
    "print(len(train_new_corrections_val_no_invalid_params_errors))\n",
    "print(len(train_new_part_corrections_val_no_invalid_params_errors))\n",
    "print(len(train_new_part_corrections_val_no_invalid_params_errors_internal_thoughts))"
   ]
  },
  {
   "cell_type": "code",
   "execution_count": 26,
   "metadata": {},
   "outputs": [],
   "source": [
    "json.dump(train_new_corrections_val, open('../data/train_new_corrections_val', 'w'))\n",
    "json.dump(train_new_corrections_train_val, open('../data/train_new_corrections_train_val', 'w'))\n",
    "json.dump(train_new_part_corrections_val, open('../data/train_new_part_corrections_val', 'w'))\n",
    "json.dump(train_new_part_corrections_train_val, open('../data/train_new_part_corrections_train_val', 'w'))\n",
    "json.dump(train_new_corrections_val_no_invalid_params_errors, open('../data/train_new_corrections_val_no_invalid_params_errors', 'w'))\n",
    "json.dump(train_new_part_corrections_val_no_invalid_params_errors, open('../data/train_new_part_corrections_val_no_invalid_params_errors', 'w'))\n",
    "json.dump(train_new_part_corrections_val_no_invalid_params_errors_internal_thoughts, open('../data/train_new_part_corrections_val_no_invalid_params_errors_internal_thoughts', 'w'))"
   ]
  },
  {
   "cell_type": "code",
   "execution_count": null,
   "metadata": {},
   "outputs": [],
   "source": []
  }
 ],
 "metadata": {
  "kernelspec": {
   "display_name": "Python 3 (ipykernel)",
   "language": "python",
   "name": "python3"
  },
  "language_info": {
   "codemirror_mode": {
    "name": "ipython",
    "version": 3
   },
   "file_extension": ".py",
   "mimetype": "text/x-python",
   "name": "python",
   "nbconvert_exporter": "python",
   "pygments_lexer": "ipython3",
   "version": "3.10.11"
  }
 },
 "nbformat": 4,
 "nbformat_minor": 2
}
